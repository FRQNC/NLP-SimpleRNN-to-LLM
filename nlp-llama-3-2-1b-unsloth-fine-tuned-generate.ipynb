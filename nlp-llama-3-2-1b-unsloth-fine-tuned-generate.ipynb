{
 "cells": [
  {
   "cell_type": "code",
   "execution_count": 1,
   "id": "ab362054",
   "metadata": {
    "_cell_guid": "b1076dfc-b9ad-4769-8c92-a6c4dae69d19",
    "_uuid": "8f2839f25d086af736a60e9eeb907d3b93b6e0e5",
    "execution": {
     "iopub.execute_input": "2024-12-23T09:11:05.383894Z",
     "iopub.status.busy": "2024-12-23T09:11:05.383554Z",
     "iopub.status.idle": "2024-12-23T09:11:13.698553Z",
     "shell.execute_reply": "2024-12-23T09:11:13.697708Z"
    },
    "papermill": {
     "duration": 8.34138,
     "end_time": "2024-12-23T09:11:13.700202",
     "exception": false,
     "start_time": "2024-12-23T09:11:05.358822",
     "status": "completed"
    },
    "scrolled": true,
    "tags": []
   },
   "outputs": [
    {
     "name": "stdout",
     "output_type": "stream",
     "text": [
      "Requirement already satisfied: transformers in /usr/local/lib/python3.10/dist-packages (4.44.2)\r\n",
      "Requirement already satisfied: datasets in /usr/local/lib/python3.10/dist-packages (3.2.0)\r\n",
      "Requirement already satisfied: accelerate in /usr/local/lib/python3.10/dist-packages (0.34.2)\r\n",
      "Collecting bitsandbytes\r\n",
      "  Downloading bitsandbytes-0.45.0-py3-none-manylinux_2_24_x86_64.whl.metadata (2.9 kB)\r\n",
      "Requirement already satisfied: wandb in /usr/local/lib/python3.10/dist-packages (0.19.1)\r\n",
      "Collecting peft\r\n",
      "  Downloading peft-0.14.0-py3-none-any.whl.metadata (13 kB)\r\n",
      "Requirement already satisfied: filelock in /usr/local/lib/python3.10/dist-packages (from transformers) (3.16.1)\r\n",
      "Requirement already satisfied: huggingface-hub<1.0,>=0.23.2 in /usr/local/lib/python3.10/dist-packages (from transformers) (0.24.7)\r\n",
      "Requirement already satisfied: numpy>=1.17 in /usr/local/lib/python3.10/dist-packages (from transformers) (1.26.4)\r\n",
      "Requirement already satisfied: packaging>=20.0 in /usr/local/lib/python3.10/dist-packages (from transformers) (24.1)\r\n",
      "Requirement already satisfied: pyyaml>=5.1 in /usr/local/lib/python3.10/dist-packages (from transformers) (6.0.2)\r\n",
      "Requirement already satisfied: regex!=2019.12.17 in /usr/local/lib/python3.10/dist-packages (from transformers) (2024.9.11)\r\n",
      "Requirement already satisfied: requests in /usr/local/lib/python3.10/dist-packages (from transformers) (2.32.3)\r\n",
      "Requirement already satisfied: safetensors>=0.4.1 in /usr/local/lib/python3.10/dist-packages (from transformers) (0.4.5)\r\n",
      "Requirement already satisfied: tokenizers<0.20,>=0.19 in /usr/local/lib/python3.10/dist-packages (from transformers) (0.19.1)\r\n",
      "Requirement already satisfied: tqdm>=4.27 in /usr/local/lib/python3.10/dist-packages (from transformers) (4.66.5)\r\n",
      "Requirement already satisfied: pyarrow>=15.0.0 in /usr/local/lib/python3.10/dist-packages (from datasets) (18.1.0)\r\n",
      "Requirement already satisfied: dill<0.3.9,>=0.3.0 in /usr/local/lib/python3.10/dist-packages (from datasets) (0.3.8)\r\n",
      "Requirement already satisfied: pandas in /usr/local/lib/python3.10/dist-packages (from datasets) (2.1.4)\r\n",
      "Requirement already satisfied: xxhash in /usr/local/lib/python3.10/dist-packages (from datasets) (3.5.0)\r\n",
      "Requirement already satisfied: multiprocess<0.70.17 in /usr/local/lib/python3.10/dist-packages (from datasets) (0.70.16)\r\n",
      "Requirement already satisfied: fsspec<=2024.9.0,>=2023.1.0 in /usr/local/lib/python3.10/dist-packages (from fsspec[http]<=2024.9.0,>=2023.1.0->datasets) (2024.6.1)\r\n",
      "Requirement already satisfied: aiohttp in /usr/local/lib/python3.10/dist-packages (from datasets) (3.10.5)\r\n",
      "Requirement already satisfied: psutil in /usr/local/lib/python3.10/dist-packages (from accelerate) (5.9.5)\r\n",
      "Requirement already satisfied: torch>=1.10.0 in /usr/local/lib/python3.10/dist-packages (from accelerate) (2.4.1+cu121)\r\n",
      "Requirement already satisfied: typing_extensions>=4.8.0 in /usr/local/lib/python3.10/dist-packages (from bitsandbytes) (4.12.2)\r\n",
      "Requirement already satisfied: click!=8.0.0,>=7.1 in /usr/local/lib/python3.10/dist-packages (from wandb) (8.1.7)\r\n",
      "Requirement already satisfied: docker-pycreds>=0.4.0 in /usr/local/lib/python3.10/dist-packages (from wandb) (0.4.0)\r\n",
      "Requirement already satisfied: gitpython!=3.1.29,>=1.0.0 in /usr/local/lib/python3.10/dist-packages (from wandb) (3.1.43)\r\n",
      "Requirement already satisfied: platformdirs in /usr/local/lib/python3.10/dist-packages (from wandb) (4.3.6)\r\n",
      "Requirement already satisfied: protobuf!=4.21.0,!=5.28.0,<6,>=3.19.0 in /usr/local/lib/python3.10/dist-packages (from wandb) (3.20.3)\r\n",
      "Requirement already satisfied: pydantic<3,>=2.6 in /usr/local/lib/python3.10/dist-packages (from wandb) (2.9.2)\r\n",
      "Requirement already satisfied: sentry-sdk>=2.0.0 in /usr/local/lib/python3.10/dist-packages (from wandb) (2.19.2)\r\n",
      "Requirement already satisfied: setproctitle in /usr/local/lib/python3.10/dist-packages (from wandb) (1.3.4)\r\n",
      "Requirement already satisfied: setuptools in /usr/local/lib/python3.10/dist-packages (from wandb) (71.0.4)\r\n",
      "Collecting huggingface-hub<1.0,>=0.23.2 (from transformers)\r\n",
      "  Downloading huggingface_hub-0.27.0-py3-none-any.whl.metadata (13 kB)\r\n",
      "Requirement already satisfied: six>=1.4.0 in /usr/local/lib/python3.10/dist-packages (from docker-pycreds>=0.4.0->wandb) (1.16.0)\r\n",
      "Requirement already satisfied: aiohappyeyeballs>=2.3.0 in /usr/local/lib/python3.10/dist-packages (from aiohttp->datasets) (2.4.0)\r\n",
      "Requirement already satisfied: aiosignal>=1.1.2 in /usr/local/lib/python3.10/dist-packages (from aiohttp->datasets) (1.3.1)\r\n",
      "Requirement already satisfied: attrs>=17.3.0 in /usr/local/lib/python3.10/dist-packages (from aiohttp->datasets) (24.2.0)\r\n",
      "Requirement already satisfied: frozenlist>=1.1.1 in /usr/local/lib/python3.10/dist-packages (from aiohttp->datasets) (1.4.1)\r\n",
      "Requirement already satisfied: multidict<7.0,>=4.5 in /usr/local/lib/python3.10/dist-packages (from aiohttp->datasets) (6.1.0)\r\n",
      "Requirement already satisfied: yarl<2.0,>=1.0 in /usr/local/lib/python3.10/dist-packages (from aiohttp->datasets) (1.11.1)\r\n",
      "Requirement already satisfied: async-timeout<5.0,>=4.0 in /usr/local/lib/python3.10/dist-packages (from aiohttp->datasets) (4.0.3)\r\n",
      "Requirement already satisfied: gitdb<5,>=4.0.1 in /usr/local/lib/python3.10/dist-packages (from gitpython!=3.1.29,>=1.0.0->wandb) (4.0.11)\r\n",
      "Requirement already satisfied: annotated-types>=0.6.0 in /usr/local/lib/python3.10/dist-packages (from pydantic<3,>=2.6->wandb) (0.7.0)\r\n",
      "Requirement already satisfied: pydantic-core==2.23.4 in /usr/local/lib/python3.10/dist-packages (from pydantic<3,>=2.6->wandb) (2.23.4)\r\n",
      "Requirement already satisfied: charset-normalizer<4,>=2 in /usr/local/lib/python3.10/dist-packages (from requests->transformers) (3.3.2)\r\n",
      "Requirement already satisfied: idna<4,>=2.5 in /usr/local/lib/python3.10/dist-packages (from requests->transformers) (3.10)\r\n",
      "Requirement already satisfied: urllib3<3,>=1.21.1 in /usr/local/lib/python3.10/dist-packages (from requests->transformers) (2.2.3)\r\n",
      "Requirement already satisfied: certifi>=2017.4.17 in /usr/local/lib/python3.10/dist-packages (from requests->transformers) (2024.8.30)\r\n",
      "Requirement already satisfied: sympy in /usr/local/lib/python3.10/dist-packages (from torch>=1.10.0->accelerate) (1.13.3)\r\n",
      "Requirement already satisfied: networkx in /usr/local/lib/python3.10/dist-packages (from torch>=1.10.0->accelerate) (3.3)\r\n",
      "Requirement already satisfied: jinja2 in /usr/local/lib/python3.10/dist-packages (from torch>=1.10.0->accelerate) (3.1.4)\r\n",
      "Requirement already satisfied: python-dateutil>=2.8.2 in /usr/local/lib/python3.10/dist-packages (from pandas->datasets) (2.8.2)\r\n",
      "Requirement already satisfied: pytz>=2020.1 in /usr/local/lib/python3.10/dist-packages (from pandas->datasets) (2024.2)\r\n",
      "Requirement already satisfied: tzdata>=2022.1 in /usr/local/lib/python3.10/dist-packages (from pandas->datasets) (2024.1)\r\n",
      "Requirement already satisfied: smmap<6,>=3.0.1 in /usr/local/lib/python3.10/dist-packages (from gitdb<5,>=4.0.1->gitpython!=3.1.29,>=1.0.0->wandb) (5.0.1)\r\n",
      "Requirement already satisfied: MarkupSafe>=2.0 in /usr/local/lib/python3.10/dist-packages (from jinja2->torch>=1.10.0->accelerate) (2.1.5)\r\n",
      "Requirement already satisfied: mpmath<1.4,>=1.1.0 in /usr/local/lib/python3.10/dist-packages (from sympy->torch>=1.10.0->accelerate) (1.3.0)\r\n",
      "Downloading bitsandbytes-0.45.0-py3-none-manylinux_2_24_x86_64.whl (69.1 MB)\r\n",
      "\u001b[2K   \u001b[90m━━━━━━━━━━━━━━━━━━━━━━━━━━━━━━━━━━━━━━━━\u001b[0m \u001b[32m69.1/69.1 MB\u001b[0m \u001b[31m25.3 MB/s\u001b[0m eta \u001b[36m0:00:00\u001b[0m\r\n",
      "\u001b[?25hDownloading peft-0.14.0-py3-none-any.whl (374 kB)\r\n",
      "\u001b[2K   \u001b[90m━━━━━━━━━━━━━━━━━━━━━━━━━━━━━━━━━━━━━━━━\u001b[0m \u001b[32m374.8/374.8 kB\u001b[0m \u001b[31m26.4 MB/s\u001b[0m eta \u001b[36m0:00:00\u001b[0m\r\n",
      "\u001b[?25hDownloading huggingface_hub-0.27.0-py3-none-any.whl (450 kB)\r\n",
      "\u001b[2K   \u001b[90m━━━━━━━━━━━━━━━━━━━━━━━━━━━━━━━━━━━━━━━━\u001b[0m \u001b[32m450.5/450.5 kB\u001b[0m \u001b[31m28.1 MB/s\u001b[0m eta \u001b[36m0:00:00\u001b[0m\r\n",
      "\u001b[?25hInstalling collected packages: huggingface-hub, bitsandbytes, peft\r\n",
      "  Attempting uninstall: huggingface-hub\r\n",
      "    Found existing installation: huggingface-hub 0.24.7\r\n",
      "    Uninstalling huggingface-hub-0.24.7:\r\n",
      "      Successfully uninstalled huggingface-hub-0.24.7\r\n",
      "Successfully installed bitsandbytes-0.45.0 huggingface-hub-0.27.0 peft-0.14.0\r\n"
     ]
    }
   ],
   "source": [
    "!pip install transformers datasets accelerate bitsandbytes wandb peft"
   ]
  },
  {
   "cell_type": "code",
   "execution_count": 2,
   "id": "7f8bf602",
   "metadata": {
    "execution": {
     "iopub.execute_input": "2024-12-23T09:11:13.748294Z",
     "iopub.status.busy": "2024-12-23T09:11:13.748024Z",
     "iopub.status.idle": "2024-12-23T09:14:25.585144Z",
     "shell.execute_reply": "2024-12-23T09:14:25.584297Z"
    },
    "papermill": {
     "duration": 191.863084,
     "end_time": "2024-12-23T09:14:25.587098",
     "exception": false,
     "start_time": "2024-12-23T09:11:13.724014",
     "status": "completed"
    },
    "tags": []
   },
   "outputs": [
    {
     "name": "stdout",
     "output_type": "stream",
     "text": [
      "\u001b[2K     \u001b[90m━━━━━━━━━━━━━━━━━━━━━━━━━━━━━━━━━━━━━━━━\u001b[0m \u001b[32m60.1/60.1 kB\u001b[0m \u001b[31m2.4 MB/s\u001b[0m eta \u001b[36m0:00:00\u001b[0m\r\n",
      "\u001b[2K     \u001b[90m━━━━━━━━━━━━━━━━━━━━━━━━━━━━━━━━━━━━━━━━\u001b[0m \u001b[32m44.1/44.1 kB\u001b[0m \u001b[31m3.1 MB/s\u001b[0m eta \u001b[36m0:00:00\u001b[0m\r\n",
      "\u001b[2K   \u001b[90m━━━━━━━━━━━━━━━━━━━━━━━━━━━━━━━━━━━━━━━━\u001b[0m \u001b[32m175.0/175.0 kB\u001b[0m \u001b[31m7.0 MB/s\u001b[0m eta \u001b[36m0:00:00\u001b[0m\r\n",
      "\u001b[2K   \u001b[90m━━━━━━━━━━━━━━━━━━━━━━━━━━━━━━━━━━━━━━━━\u001b[0m \u001b[32m10.0/10.0 MB\u001b[0m \u001b[31m75.2 MB/s\u001b[0m eta \u001b[36m0:00:00\u001b[0m\r\n",
      "\u001b[2K   \u001b[90m━━━━━━━━━━━━━━━━━━━━━━━━━━━━━━━━━━━━━━━━\u001b[0m \u001b[32m209.5/209.5 MB\u001b[0m \u001b[31m8.1 MB/s\u001b[0m eta \u001b[36m0:00:00\u001b[0m\r\n",
      "\u001b[2K   \u001b[90m━━━━━━━━━━━━━━━━━━━━━━━━━━━━━━━━━━━━━━━━\u001b[0m \u001b[32m293.4/293.4 kB\u001b[0m \u001b[31m20.5 MB/s\u001b[0m eta \u001b[36m0:00:00\u001b[0m\r\n",
      "\u001b[2K   \u001b[90m━━━━━━━━━━━━━━━━━━━━━━━━━━━━━━━━━━━━━━━━\u001b[0m \u001b[32m68.7/68.7 kB\u001b[0m \u001b[31m4.6 MB/s\u001b[0m eta \u001b[36m0:00:00\u001b[0m\r\n",
      "\u001b[2K   \u001b[90m━━━━━━━━━━━━━━━━━━━━━━━━━━━━━━━━━━━━━━━━\u001b[0m \u001b[32m16.7/16.7 MB\u001b[0m \u001b[31m73.7 MB/s\u001b[0m eta \u001b[36m0:00:00\u001b[0m\r\n",
      "\u001b[2K   \u001b[90m━━━━━━━━━━━━━━━━━━━━━━━━━━━━━━━━━━━━━━━━\u001b[0m \u001b[32m906.4/906.4 MB\u001b[0m \u001b[31m1.5 MB/s\u001b[0m eta \u001b[36m0:00:00\u001b[0m\r\n",
      "\u001b[2K   \u001b[90m━━━━━━━━━━━━━━━━━━━━━━━━━━━━━━━━━━━━━━━━\u001b[0m \u001b[32m363.4/363.4 MB\u001b[0m \u001b[31m1.9 MB/s\u001b[0m eta \u001b[36m0:00:00\u001b[0m\r\n",
      "\u001b[2K   \u001b[90m━━━━━━━━━━━━━━━━━━━━━━━━━━━━━━━━━━━━━━━━\u001b[0m \u001b[32m13.8/13.8 MB\u001b[0m \u001b[31m89.2 MB/s\u001b[0m eta \u001b[36m0:00:00\u001b[0m\r\n",
      "\u001b[2K   \u001b[90m━━━━━━━━━━━━━━━━━━━━━━━━━━━━━━━━━━━━━━━━\u001b[0m \u001b[32m24.6/24.6 MB\u001b[0m \u001b[31m65.9 MB/s\u001b[0m eta \u001b[36m0:00:00\u001b[0m\r\n",
      "\u001b[2K   \u001b[90m━━━━━━━━━━━━━━━━━━━━━━━━━━━━━━━━━━━━━━━━\u001b[0m \u001b[32m883.7/883.7 kB\u001b[0m \u001b[31m46.3 MB/s\u001b[0m eta \u001b[36m0:00:00\u001b[0m\r\n",
      "\u001b[2K   \u001b[90m━━━━━━━━━━━━━━━━━━━━━━━━━━━━━━━━━━━━━━━━\u001b[0m \u001b[32m664.8/664.8 MB\u001b[0m \u001b[31m2.4 MB/s\u001b[0m eta \u001b[36m0:00:00\u001b[0m\r\n",
      "\u001b[2K   \u001b[90m━━━━━━━━━━━━━━━━━━━━━━━━━━━━━━━━━━━━━━━━\u001b[0m \u001b[32m211.5/211.5 MB\u001b[0m \u001b[31m2.0 MB/s\u001b[0m eta \u001b[36m0:00:00\u001b[0m\r\n",
      "\u001b[2K   \u001b[90m━━━━━━━━━━━━━━━━━━━━━━━━━━━━━━━━━━━━━━━━\u001b[0m \u001b[32m56.3/56.3 MB\u001b[0m \u001b[31m30.5 MB/s\u001b[0m eta \u001b[36m0:00:00\u001b[0m\r\n",
      "\u001b[2K   \u001b[90m━━━━━━━━━━━━━━━━━━━━━━━━━━━━━━━━━━━━━━━━\u001b[0m \u001b[32m127.9/127.9 MB\u001b[0m \u001b[31m13.5 MB/s\u001b[0m eta \u001b[36m0:00:00\u001b[0m\r\n",
      "\u001b[2K   \u001b[90m━━━━━━━━━━━━━━━━━━━━━━━━━━━━━━━━━━━━━━━━\u001b[0m \u001b[32m207.5/207.5 MB\u001b[0m \u001b[31m8.2 MB/s\u001b[0m eta \u001b[36m0:00:00\u001b[0m\r\n",
      "\u001b[2K   \u001b[90m━━━━━━━━━━━━━━━━━━━━━━━━━━━━━━━━━━━━━━━━\u001b[0m \u001b[32m188.7/188.7 MB\u001b[0m \u001b[31m9.0 MB/s\u001b[0m eta \u001b[36m0:00:00\u001b[0m\r\n",
      "\u001b[2K   \u001b[90m━━━━━━━━━━━━━━━━━━━━━━━━━━━━━━━━━━━━━━━━\u001b[0m \u001b[32m21.1/21.1 MB\u001b[0m \u001b[31m70.6 MB/s\u001b[0m eta \u001b[36m0:00:00\u001b[0m\r\n",
      "\u001b[2K   \u001b[90m━━━━━━━━━━━━━━━━━━━━━━━━━━━━━━━━━━━━━━━━\u001b[0m \u001b[32m99.1/99.1 kB\u001b[0m \u001b[31m6.8 MB/s\u001b[0m eta \u001b[36m0:00:00\u001b[0m\r\n",
      "\u001b[2K   \u001b[90m━━━━━━━━━━━━━━━━━━━━━━━━━━━━━━━━━━━━━━━━\u001b[0m \u001b[32m6.2/6.2 MB\u001b[0m \u001b[31m101.2 MB/s\u001b[0m eta \u001b[36m0:00:00\u001b[0m\r\n",
      "\u001b[2K   \u001b[90m━━━━━━━━━━━━━━━━━━━━━━━━━━━━━━━━━━━━━━━━\u001b[0m \u001b[32m3.6/3.6 MB\u001b[0m \u001b[31m91.6 MB/s\u001b[0m eta \u001b[36m0:00:00\u001b[0m\r\n",
      "\u001b[2K   \u001b[90m━━━━━━━━━━━━━━━━━━━━━━━━━━━━━━━━━━━━━━━━\u001b[0m \u001b[32m112.4/112.4 kB\u001b[0m \u001b[31m8.9 MB/s\u001b[0m eta \u001b[36m0:00:00\u001b[0m\r\n",
      "\u001b[2K   \u001b[90m━━━━━━━━━━━━━━━━━━━━━━━━━━━━━━━━━━━━━━━━\u001b[0m \u001b[32m3.0/3.0 MB\u001b[0m \u001b[31m84.9 MB/s\u001b[0m eta \u001b[36m0:00:00\u001b[0m\r\n",
      "\u001b[?25h\u001b[31mERROR: pip's dependency resolver does not currently take into account all the packages that are installed. This behaviour is the source of the following dependency conflicts.\r\n",
      "fastai 2.7.17 requires torch<2.5,>=1.10, but you have torch 2.5.1 which is incompatible.\r\n",
      "torchaudio 2.4.1+cu121 requires torch==2.4.1, but you have torch 2.5.1 which is incompatible.\r\n",
      "torchvision 0.19.1+cu121 requires torch==2.4.1, but you have torch 2.5.1 which is incompatible.\u001b[0m\u001b[31m\r\n",
      "\u001b[0mFound existing installation: unsloth 2024.12.8\r\n",
      "Uninstalling unsloth-2024.12.8:\r\n",
      "  Successfully uninstalled unsloth-2024.12.8\r\n",
      "Collecting git+https://github.com/unslothai/unsloth.git\r\n",
      "  Cloning https://github.com/unslothai/unsloth.git to /tmp/pip-req-build-hhetn0wb\r\n",
      "  Running command git clone --filter=blob:none --quiet https://github.com/unslothai/unsloth.git /tmp/pip-req-build-hhetn0wb\r\n",
      "  Resolved https://github.com/unslothai/unsloth.git to commit 79db7130734056928fc25e38a0fde64b72d5615e\r\n",
      "  Installing build dependencies ... \u001b[?25l\u001b[?25hdone\r\n",
      "  Getting requirements to build wheel ... \u001b[?25l\u001b[?25hdone\r\n",
      "  Preparing metadata (pyproject.toml) ... \u001b[?25l\u001b[?25hdone\r\n",
      "Building wheels for collected packages: unsloth\r\n",
      "  Building wheel for unsloth (pyproject.toml) ... \u001b[?25l\u001b[?25hdone\r\n",
      "  Created wheel for unsloth: filename=unsloth-2024.12.8-py3-none-any.whl size=174222 sha256=5bfe8edf37dec655d2f0b1efb8db0a8173737c7f957664b3a59a7050e18df462\r\n",
      "  Stored in directory: /tmp/pip-ephem-wheel-cache-3zzzr5g6/wheels/ed/d4/e9/76fb290ee3df0a5fc21ce5c2c788e29e9607a2353d8342fd0d\r\n",
      "Successfully built unsloth\r\n",
      "Installing collected packages: unsloth\r\n",
      "Successfully installed unsloth-2024.12.8\r\n"
     ]
    }
   ],
   "source": [
    "!pip install unsloth -q\n",
    "# Also get the latest nightly Unsloth!\n",
    "!pip uninstall unsloth -y && pip install --upgrade --no-cache-dir --no-deps git+https://github.com/unslothai/unsloth.git"
   ]
  },
  {
   "cell_type": "code",
   "execution_count": 3,
   "id": "3d65a9af",
   "metadata": {
    "execution": {
     "iopub.execute_input": "2024-12-23T09:14:25.717528Z",
     "iopub.status.busy": "2024-12-23T09:14:25.717237Z",
     "iopub.status.idle": "2024-12-23T09:14:25.720401Z",
     "shell.execute_reply": "2024-12-23T09:14:25.719728Z"
    },
    "papermill": {
     "duration": 0.070146,
     "end_time": "2024-12-23T09:14:25.721850",
     "exception": false,
     "start_time": "2024-12-23T09:14:25.651704",
     "status": "completed"
    },
    "tags": []
   },
   "outputs": [],
   "source": [
    "# from kaggle_secrets import UserSecretsClient\n",
    "# user_secrets = UserSecretsClient()\n",
    "# huggingface_token = user_secrets.get_secret(\"huggingface\")"
   ]
  },
  {
   "cell_type": "code",
   "execution_count": 4,
   "id": "c5338709",
   "metadata": {
    "execution": {
     "iopub.execute_input": "2024-12-23T09:14:25.850544Z",
     "iopub.status.busy": "2024-12-23T09:14:25.850231Z",
     "iopub.status.idle": "2024-12-23T09:14:25.853174Z",
     "shell.execute_reply": "2024-12-23T09:14:25.852558Z"
    },
    "papermill": {
     "duration": 0.069022,
     "end_time": "2024-12-23T09:14:25.854535",
     "exception": false,
     "start_time": "2024-12-23T09:14:25.785513",
     "status": "completed"
    },
    "tags": []
   },
   "outputs": [],
   "source": [
    "# from huggingface_hub import login\n",
    "# login(huggingface_token)"
   ]
  },
  {
   "cell_type": "code",
   "execution_count": 5,
   "id": "5583ea6c",
   "metadata": {
    "execution": {
     "iopub.execute_input": "2024-12-23T09:14:25.979929Z",
     "iopub.status.busy": "2024-12-23T09:14:25.979694Z",
     "iopub.status.idle": "2024-12-23T09:14:54.266190Z",
     "shell.execute_reply": "2024-12-23T09:14:54.265368Z"
    },
    "papermill": {
     "duration": 28.350493,
     "end_time": "2024-12-23T09:14:54.267554",
     "exception": false,
     "start_time": "2024-12-23T09:14:25.917061",
     "status": "completed"
    },
    "tags": []
   },
   "outputs": [
    {
     "name": "stdout",
     "output_type": "stream",
     "text": [
      "🦥 Unsloth: Will patch your computer to enable 2x faster free finetuning.\n",
      "🦥 Unsloth Zoo will now patch everything to make training faster!\n",
      "==((====))==  Unsloth 2024.12.8: Fast Llama patching. Transformers: 4.46.3.\n",
      "   \\\\   /|    GPU: Tesla T4. Max memory: 14.741 GB. Platform: Linux.\n",
      "O^O/ \\_/ \\    Torch: 2.5.1+cu124. CUDA: 7.5. CUDA Toolkit: 12.4. Triton: 3.1.0\n",
      "\\        /    Bfloat16 = FALSE. FA [Xformers = 0.0.28.post3. FA2 = False]\n",
      " \"-____-\"     Free Apache license: http://github.com/unslothai/unsloth\n",
      "Unsloth: Fast downloading is enabled - ignore downloading bars which are red colored!\n"
     ]
    },
    {
     "data": {
      "application/vnd.jupyter.widget-view+json": {
       "model_id": "e0166e70d33c413993d15fbc01481a92",
       "version_major": 2,
       "version_minor": 0
      },
      "text/plain": [
       "model.safetensors:   0%|          | 0.00/1.03G [00:00<?, ?B/s]"
      ]
     },
     "metadata": {},
     "output_type": "display_data"
    },
    {
     "data": {
      "application/vnd.jupyter.widget-view+json": {
       "model_id": "e42705bd0d3845c9abf72ed664e8a1d6",
       "version_major": 2,
       "version_minor": 0
      },
      "text/plain": [
       "generation_config.json:   0%|          | 0.00/121 [00:00<?, ?B/s]"
      ]
     },
     "metadata": {},
     "output_type": "display_data"
    },
    {
     "name": "stderr",
     "output_type": "stream",
     "text": [
      "Not an error, but Unsloth cannot patch MLP layers with our manual autograd engine since either LoRA adapters\n",
      "are not enabled or a bias term (like in Qwen) is used.\n",
      "Unsloth 2024.12.8 patched 16 layers with 16 QKV layers, 16 O layers and 0 MLP layers.\n"
     ]
    },
    {
     "data": {
      "text/plain": [
       "PeftModelForCausalLM(\n",
       "  (base_model): LoraModel(\n",
       "    (model): LlamaForCausalLM(\n",
       "      (model): LlamaModel(\n",
       "        (embed_tokens): Embedding(128256, 2048, padding_idx=128004)\n",
       "        (layers): ModuleList(\n",
       "          (0-15): 16 x LlamaDecoderLayer(\n",
       "            (self_attn): LlamaAttention(\n",
       "              (q_proj): lora.Linear4bit(\n",
       "                (base_layer): Linear4bit(in_features=2048, out_features=2048, bias=False)\n",
       "                (lora_dropout): ModuleDict(\n",
       "                  (default): Identity()\n",
       "                )\n",
       "                (lora_A): ModuleDict(\n",
       "                  (default): Linear(in_features=2048, out_features=16, bias=False)\n",
       "                )\n",
       "                (lora_B): ModuleDict(\n",
       "                  (default): Linear(in_features=16, out_features=2048, bias=False)\n",
       "                )\n",
       "                (lora_embedding_A): ParameterDict()\n",
       "                (lora_embedding_B): ParameterDict()\n",
       "                (lora_magnitude_vector): ModuleDict()\n",
       "              )\n",
       "              (k_proj): lora.Linear4bit(\n",
       "                (base_layer): Linear4bit(in_features=2048, out_features=512, bias=False)\n",
       "                (lora_dropout): ModuleDict(\n",
       "                  (default): Identity()\n",
       "                )\n",
       "                (lora_A): ModuleDict(\n",
       "                  (default): Linear(in_features=2048, out_features=16, bias=False)\n",
       "                )\n",
       "                (lora_B): ModuleDict(\n",
       "                  (default): Linear(in_features=16, out_features=512, bias=False)\n",
       "                )\n",
       "                (lora_embedding_A): ParameterDict()\n",
       "                (lora_embedding_B): ParameterDict()\n",
       "                (lora_magnitude_vector): ModuleDict()\n",
       "              )\n",
       "              (v_proj): lora.Linear4bit(\n",
       "                (base_layer): Linear4bit(in_features=2048, out_features=512, bias=False)\n",
       "                (lora_dropout): ModuleDict(\n",
       "                  (default): Identity()\n",
       "                )\n",
       "                (lora_A): ModuleDict(\n",
       "                  (default): Linear(in_features=2048, out_features=16, bias=False)\n",
       "                )\n",
       "                (lora_B): ModuleDict(\n",
       "                  (default): Linear(in_features=16, out_features=512, bias=False)\n",
       "                )\n",
       "                (lora_embedding_A): ParameterDict()\n",
       "                (lora_embedding_B): ParameterDict()\n",
       "                (lora_magnitude_vector): ModuleDict()\n",
       "              )\n",
       "              (o_proj): lora.Linear4bit(\n",
       "                (base_layer): Linear4bit(in_features=2048, out_features=2048, bias=False)\n",
       "                (lora_dropout): ModuleDict(\n",
       "                  (default): Identity()\n",
       "                )\n",
       "                (lora_A): ModuleDict(\n",
       "                  (default): Linear(in_features=2048, out_features=16, bias=False)\n",
       "                )\n",
       "                (lora_B): ModuleDict(\n",
       "                  (default): Linear(in_features=16, out_features=2048, bias=False)\n",
       "                )\n",
       "                (lora_embedding_A): ParameterDict()\n",
       "                (lora_embedding_B): ParameterDict()\n",
       "                (lora_magnitude_vector): ModuleDict()\n",
       "              )\n",
       "              (rotary_emb): LlamaExtendedRotaryEmbedding()\n",
       "            )\n",
       "            (mlp): LlamaMLP(\n",
       "              (gate_proj): Linear4bit(in_features=2048, out_features=8192, bias=False)\n",
       "              (up_proj): Linear4bit(in_features=2048, out_features=8192, bias=False)\n",
       "              (down_proj): Linear4bit(in_features=8192, out_features=2048, bias=False)\n",
       "              (act_fn): SiLU()\n",
       "            )\n",
       "            (input_layernorm): LlamaRMSNorm((2048,), eps=1e-05)\n",
       "            (post_attention_layernorm): LlamaRMSNorm((2048,), eps=1e-05)\n",
       "          )\n",
       "        )\n",
       "        (norm): LlamaRMSNorm((2048,), eps=1e-05)\n",
       "        (rotary_emb): LlamaRotaryEmbedding()\n",
       "      )\n",
       "      (lm_head): Linear(in_features=2048, out_features=128256, bias=False)\n",
       "    )\n",
       "  )\n",
       ")"
      ]
     },
     "execution_count": 5,
     "metadata": {},
     "output_type": "execute_result"
    }
   ],
   "source": [
    "from unsloth import FastLanguageModel\n",
    "max_seq_length = 512\n",
    "model, tokenizer = FastLanguageModel.from_pretrained(\n",
    "    model_name = \"../input/llama-3-2-1b-fine-tuned-summarization/results/model\", # YOUR MODEL YOU USED FOR TRAINING\n",
    "    max_seq_length = max_seq_length,\n",
    "    dtype = None,\n",
    "    load_in_4bit = True,\n",
    ")\n",
    "FastLanguageModel.for_inference(model) # Enable native 2x faster inference"
   ]
  },
  {
   "cell_type": "code",
   "execution_count": 6,
   "id": "c1c3f4f9",
   "metadata": {
    "execution": {
     "iopub.execute_input": "2024-12-23T09:14:54.398446Z",
     "iopub.status.busy": "2024-12-23T09:14:54.398096Z",
     "iopub.status.idle": "2024-12-23T09:14:56.624300Z",
     "shell.execute_reply": "2024-12-23T09:14:56.623231Z"
    },
    "papermill": {
     "duration": 2.292193,
     "end_time": "2024-12-23T09:14:56.625947",
     "exception": false,
     "start_time": "2024-12-23T09:14:54.333754",
     "status": "completed"
    },
    "tags": []
   },
   "outputs": [],
   "source": [
    "from datasets import Dataset\n",
    "import json\n",
    "\n",
    "# Load the dataset\n",
    "def load_data(file_path):\n",
    "    articles = []\n",
    "    summaries = []\n",
    "    with open(file_path, 'r') as f:\n",
    "        for line in f:\n",
    "            data = json.loads(line)\n",
    "            # First join words in each sentence, then join sentences in each paragraph\n",
    "            article_text = ' '.join([' '.join(sentence) for paragraph in data['paragraphs'] for sentence in paragraph])\n",
    "            summary_text = ' '.join([' '.join(sentence) for sentence in data['summary']])\n",
    "\n",
    "            articles.append(article_text)\n",
    "            summaries.append(summary_text)\n",
    "    return articles, summaries\n",
    "\n",
    "# Paths to dataset JSONL files\n",
    "train_file = '../input/indosum/indosum/train.01.jsonl'\n",
    "dev_file = '../input/indosum/indosum/dev.01.jsonl'\n",
    "test_file = '../input/indosum/indosum/test.01.jsonl'\n",
    "\n",
    "# Load data\n",
    "train_articles, train_summaries = load_data(train_file)\n",
    "dev_articles, dev_summaries = load_data(dev_file)\n",
    "test_articles, test_summaries = load_data(test_file)\n",
    "\n",
    "# Create a Hugging Face Dataset\n",
    "train_dataset = Dataset.from_dict({\"document\": train_articles, \"summary\": train_summaries})\n",
    "dev_dataset = Dataset.from_dict({\"document\": dev_articles, \"summary\": dev_summaries})\n",
    "test_dataset = Dataset.from_dict({\"document\": test_articles, \"summary\": test_summaries})"
   ]
  },
  {
   "cell_type": "code",
   "execution_count": 7,
   "id": "6e8783fc",
   "metadata": {
    "execution": {
     "iopub.execute_input": "2024-12-23T09:14:56.794602Z",
     "iopub.status.busy": "2024-12-23T09:14:56.794190Z",
     "iopub.status.idle": "2024-12-23T09:14:56.809902Z",
     "shell.execute_reply": "2024-12-23T09:14:56.809070Z"
    },
    "papermill": {
     "duration": 0.120492,
     "end_time": "2024-12-23T09:14:56.811247",
     "exception": false,
     "start_time": "2024-12-23T09:14:56.690755",
     "status": "completed"
    },
    "tags": []
   },
   "outputs": [
    {
     "data": {
      "text/plain": [
       "PeftModelForCausalLM(\n",
       "  (base_model): LoraModel(\n",
       "    (model): LlamaForCausalLM(\n",
       "      (model): LlamaModel(\n",
       "        (embed_tokens): Embedding(128256, 2048, padding_idx=128004)\n",
       "        (layers): ModuleList(\n",
       "          (0-15): 16 x LlamaDecoderLayer(\n",
       "            (self_attn): LlamaAttention(\n",
       "              (q_proj): lora.Linear4bit(\n",
       "                (base_layer): Linear4bit(in_features=2048, out_features=2048, bias=False)\n",
       "                (lora_dropout): ModuleDict(\n",
       "                  (default): Identity()\n",
       "                )\n",
       "                (lora_A): ModuleDict(\n",
       "                  (default): Linear(in_features=2048, out_features=16, bias=False)\n",
       "                )\n",
       "                (lora_B): ModuleDict(\n",
       "                  (default): Linear(in_features=16, out_features=2048, bias=False)\n",
       "                )\n",
       "                (lora_embedding_A): ParameterDict()\n",
       "                (lora_embedding_B): ParameterDict()\n",
       "                (lora_magnitude_vector): ModuleDict()\n",
       "              )\n",
       "              (k_proj): lora.Linear4bit(\n",
       "                (base_layer): Linear4bit(in_features=2048, out_features=512, bias=False)\n",
       "                (lora_dropout): ModuleDict(\n",
       "                  (default): Identity()\n",
       "                )\n",
       "                (lora_A): ModuleDict(\n",
       "                  (default): Linear(in_features=2048, out_features=16, bias=False)\n",
       "                )\n",
       "                (lora_B): ModuleDict(\n",
       "                  (default): Linear(in_features=16, out_features=512, bias=False)\n",
       "                )\n",
       "                (lora_embedding_A): ParameterDict()\n",
       "                (lora_embedding_B): ParameterDict()\n",
       "                (lora_magnitude_vector): ModuleDict()\n",
       "              )\n",
       "              (v_proj): lora.Linear4bit(\n",
       "                (base_layer): Linear4bit(in_features=2048, out_features=512, bias=False)\n",
       "                (lora_dropout): ModuleDict(\n",
       "                  (default): Identity()\n",
       "                )\n",
       "                (lora_A): ModuleDict(\n",
       "                  (default): Linear(in_features=2048, out_features=16, bias=False)\n",
       "                )\n",
       "                (lora_B): ModuleDict(\n",
       "                  (default): Linear(in_features=16, out_features=512, bias=False)\n",
       "                )\n",
       "                (lora_embedding_A): ParameterDict()\n",
       "                (lora_embedding_B): ParameterDict()\n",
       "                (lora_magnitude_vector): ModuleDict()\n",
       "              )\n",
       "              (o_proj): lora.Linear4bit(\n",
       "                (base_layer): Linear4bit(in_features=2048, out_features=2048, bias=False)\n",
       "                (lora_dropout): ModuleDict(\n",
       "                  (default): Identity()\n",
       "                )\n",
       "                (lora_A): ModuleDict(\n",
       "                  (default): Linear(in_features=2048, out_features=16, bias=False)\n",
       "                )\n",
       "                (lora_B): ModuleDict(\n",
       "                  (default): Linear(in_features=16, out_features=2048, bias=False)\n",
       "                )\n",
       "                (lora_embedding_A): ParameterDict()\n",
       "                (lora_embedding_B): ParameterDict()\n",
       "                (lora_magnitude_vector): ModuleDict()\n",
       "              )\n",
       "              (rotary_emb): LlamaExtendedRotaryEmbedding()\n",
       "            )\n",
       "            (mlp): LlamaMLP(\n",
       "              (gate_proj): Linear4bit(in_features=2048, out_features=8192, bias=False)\n",
       "              (up_proj): Linear4bit(in_features=2048, out_features=8192, bias=False)\n",
       "              (down_proj): Linear4bit(in_features=8192, out_features=2048, bias=False)\n",
       "              (act_fn): SiLU()\n",
       "            )\n",
       "            (input_layernorm): LlamaRMSNorm((2048,), eps=1e-05)\n",
       "            (post_attention_layernorm): LlamaRMSNorm((2048,), eps=1e-05)\n",
       "          )\n",
       "        )\n",
       "        (norm): LlamaRMSNorm((2048,), eps=1e-05)\n",
       "        (rotary_emb): LlamaRotaryEmbedding()\n",
       "      )\n",
       "      (lm_head): Linear(in_features=2048, out_features=128256, bias=False)\n",
       "    )\n",
       "  )\n",
       ")"
      ]
     },
     "execution_count": 7,
     "metadata": {},
     "output_type": "execute_result"
    }
   ],
   "source": [
    "import torch\n",
    "# Move the model to GPU if available\n",
    "device = \"cuda\" if torch.cuda.is_available() else \"cpu\"\n",
    "model.to(device)"
   ]
  },
  {
   "cell_type": "code",
   "execution_count": 8,
   "id": "772a4279",
   "metadata": {
    "execution": {
     "iopub.execute_input": "2024-12-23T09:14:56.940446Z",
     "iopub.status.busy": "2024-12-23T09:14:56.940173Z",
     "iopub.status.idle": "2024-12-23T09:14:56.947286Z",
     "shell.execute_reply": "2024-12-23T09:14:56.946479Z"
    },
    "papermill": {
     "duration": 0.072361,
     "end_time": "2024-12-23T09:14:56.948606",
     "exception": false,
     "start_time": "2024-12-23T09:14:56.876245",
     "status": "completed"
    },
    "tags": []
   },
   "outputs": [],
   "source": [
    "if tokenizer.pad_token is None:\n",
    "    tokenizer.pad_token = tokenizer.eos_token\n",
    "def generate_summary(text, prompt_type=\"one-shot\"):\n",
    "    # Prompt preparation\n",
    "    if prompt_type == \"one-shot\":\n",
    "        prompt = f\"\"\"\n",
    "### SUMMARIZATION TASK ###\n",
    "- Summarize the new text into 2–3 sentences.\n",
    "- Focus on the key points.\n",
    "- Ignore any examples.\n",
    "- Only summarize the ### New Text ###.\n",
    "- Generate the summary in Bahasa Indonesia.\n",
    "- Ignore any news source or site.\n",
    "\n",
    "### Example ###\n",
    "Text: {train_dataset['document'][0]}  \n",
    "Summary: {train_dataset['summary'][0]}\n",
    "\n",
    "### New Text ###\n",
    "Text: {text}\n",
    "\n",
    "### New Summary ###\n",
    "Summary:\"\"\"\n",
    "    elif prompt_type == \"few-shot\":\n",
    "        few_shot_examples = \"\\n\\n\".join([\n",
    "            f\"### Examples {i + 1} ###\\nText: {train_dataset['document'][i]}\\nSummary: {train_dataset['summary'][i]}\"\n",
    "            for i in range(3)\n",
    "        ])\n",
    "        prompt = f\"\"\"\n",
    "### SUMMARIZATION TASK ###\n",
    "- Summarize the new text into 2–3 sentences.\n",
    "- Focus on the key points.\n",
    "- Ignore the examples above, it is tagged with ### Examples number ###.\n",
    "- Only summarize the ### New Text ###.\n",
    "- Generate the summary in Bahasa Indonesia.\n",
    "- Ignore any news source or site.\n",
    "\n",
    "{few_shot_examples}\n",
    "\n",
    "### New Text ###\n",
    "Text: {text}\n",
    "\n",
    "### New Summary ###\n",
    "Summary:\"\"\"\n",
    "    else:\n",
    "        raise ValueError(\"Invalid prompt_type. Choose 'one-shot' or 'few-shot'.\")\n",
    "\n",
    "    inputs = tokenizer(\n",
    "        prompt,\n",
    "        return_tensors=\"pt\",\n",
    "        max_length=tokenizer.model_max_length,\n",
    "        truncation=True,\n",
    "        padding=True,\n",
    "    ).to(device)\n",
    "\n",
    "    # Generate output\n",
    "    outputs = model.generate(\n",
    "        input_ids=inputs.input_ids,\n",
    "        attention_mask=inputs.attention_mask,\n",
    "        max_new_tokens=150,  # Adjust if longer summaries are needed\n",
    "        # num_beams=2,\n",
    "        temperature=0.5,\n",
    "        top_k=25,\n",
    "        top_p=0.9,\n",
    "        do_sample=True,\n",
    "        no_repeat_ngram_size=3,\n",
    "        # early_stopping=True,\n",
    "    )\n",
    "\n",
    "    # Decode and clean the output\n",
    "    full_output = tokenizer.decode(outputs[0], skip_special_tokens=True)\n",
    "\n",
    "    try:\n",
    "        # Extract the summary after \"Summary:\" and limit to 50 tokens\n",
    "        if \"Summary:\" in full_output:\n",
    "            summary = full_output.split(\"Summary:\")[-1].strip()\n",
    "        else:\n",
    "            summary = full_output.strip()\n",
    "        summary = ' '.join(summary.split())\n",
    "\n",
    "    except Exception as e:\n",
    "        print(f\"Error during summary extraction: {e}\")\n",
    "        summary = full_output.strip()\n",
    "\n",
    "    return summary"
   ]
  },
  {
   "cell_type": "code",
   "execution_count": 9,
   "id": "892b6013",
   "metadata": {
    "execution": {
     "iopub.execute_input": "2024-12-23T09:14:57.077957Z",
     "iopub.status.busy": "2024-12-23T09:14:57.077729Z",
     "iopub.status.idle": "2024-12-23T09:14:57.093391Z",
     "shell.execute_reply": "2024-12-23T09:14:57.092538Z"
    },
    "papermill": {
     "duration": 0.081159,
     "end_time": "2024-12-23T09:14:57.094720",
     "exception": false,
     "start_time": "2024-12-23T09:14:57.013561",
     "status": "completed"
    },
    "tags": []
   },
   "outputs": [
    {
     "name": "stdout",
     "output_type": "stream",
     "text": [
      "Jakarta , CNN Indonesia - - Dilansir AFP , seorang warga Mesir yang dipercaya sebagai wanita terberat di dunia masuk sebuah rumah sakit di Abu Dhabi Kamis ( 5 / 5 ) , dimana ia akan melanjutkan perawatan setelah menjalankan operasi menurunkan badan di India . Eman Ahmed Abd El Aty memiliki berat badan mencapai 500 kilogram sebelum menjalankan operasi di Mumbai Maret lalu dimana ia mengurangi seperlima dari berat badannya . Ia menderita berbagai macam masalah kesehatan termasuk penyakit gajah , kondisi yang menyebabkan anggota badan membengkak . Abd El Aty diberi diet cairan khusus selama berada di India yang bertujuan menurunkan berat badan . Diet ini memungkinkan dokter melakukan operasi bariatrik , prosedur bypass yang kini sering dilakukan di India dalam menghadapi masalah obesitas yang bertambah banyak . Ia tiba di India dengan menggunakan pesawat Airbus yang secara khusus telah dimodifikasi khusus untuk mengangkutnya pada bulan Februari . Kini , berat badannya telah turun drastis sebanyak 323 kilogram dalam tiga bulan . Sekarang berat badannya tinggal 176,6 kilogram . Rencananya , diterangkan oleh dokternya di Mumbai , ia akan menjalani fisioterapi selama setahun penuh di rumah sakit VPS Burjeel , Abu Dhabi . “ Kami telah mengatur tandu hidrolik dari Italia untuk perjalanan Eman dan ia akan didampingi oleh dokter , paramedis dan suster dalam perjalanan pindah ini , ” terang Sanet Meyer , direktur medevac di VPS Burjeel , kepada AFP . Koran - koran di Uni Emirat Arab melaporkan jika saudara perempuan Abd El Aty , Shaima , tidak setuju dengan penanganan tim medis India . “ Saya minta bantuan setelah memperhatikan lambatnya cara kerja tim di India , ” ungkapnya . Abd El Aty tidak pernah meninggalkan rumahnya di Alexandria , kota pelabuhan Mediterania di Mesir selama dua puluh tahun , sebelum akhirnya berangkat ke India . Keluarganya memberitahu para dokter jika ia telah didiagnosa dengan penyakit kaki gajah sejak kecil sehingga itu yang menyebabkan ia tidak bisa aktif bergerak . Abd El Aty pernah terkena serangan jantung dan menghadapi berbagai penyakit serius sebagai akibat dari berat bedannya seperti diabetes , tekan darah tinggi , hipertensi dan kurang tidur . Ia juga tidak dapat berbicara dengan benar dan sebagian tubuhnya lumpuh . India dikenal sebagai tujuan turis medis yang mencari pelayanan berkualitas yang jauh lebih murah dibanding jasa yang sama di negara barat dan juga tidak harus menunggu lama . Juli tahun lalu , Guinness Book of World Records mencatat warga AS Pauline Potter sebagai wanita terberat dengan berat badan 293 kilogram , jauh di atas berat badan Abd El Aty yang sekarang .\n"
     ]
    }
   ],
   "source": [
    "input_text = test_dataset['document'][0]\n",
    "print(input_text)"
   ]
  },
  {
   "cell_type": "code",
   "execution_count": 10,
   "id": "082051e9",
   "metadata": {
    "execution": {
     "iopub.execute_input": "2024-12-23T09:14:57.222672Z",
     "iopub.status.busy": "2024-12-23T09:14:57.222431Z",
     "iopub.status.idle": "2024-12-23T09:14:57.225968Z",
     "shell.execute_reply": "2024-12-23T09:14:57.225170Z"
    },
    "papermill": {
     "duration": 0.068479,
     "end_time": "2024-12-23T09:14:57.227065",
     "exception": false,
     "start_time": "2024-12-23T09:14:57.158586",
     "status": "completed"
    },
    "tags": []
   },
   "outputs": [],
   "source": [
    "torch.cuda.empty_cache()\n",
    "torch.cuda.set_device(0)  # Ensure computations stay on `cuda:0`"
   ]
  },
  {
   "cell_type": "code",
   "execution_count": 11,
   "id": "e51f3e23",
   "metadata": {
    "execution": {
     "iopub.execute_input": "2024-12-23T09:14:57.356353Z",
     "iopub.status.busy": "2024-12-23T09:14:57.356068Z",
     "iopub.status.idle": "2024-12-23T09:14:57.362514Z",
     "shell.execute_reply": "2024-12-23T09:14:57.361718Z"
    },
    "papermill": {
     "duration": 0.073094,
     "end_time": "2024-12-23T09:14:57.363822",
     "exception": false,
     "start_time": "2024-12-23T09:14:57.290728",
     "status": "completed"
    },
    "tags": []
   },
   "outputs": [],
   "source": [
    "# Prepare the model\n",
    "model.eval()\n",
    "torch.cuda.empty_cache()"
   ]
  },
  {
   "cell_type": "code",
   "execution_count": 12,
   "id": "b0309c8e",
   "metadata": {
    "execution": {
     "iopub.execute_input": "2024-12-23T09:14:57.493024Z",
     "iopub.status.busy": "2024-12-23T09:14:57.492780Z",
     "iopub.status.idle": "2024-12-23T09:15:05.176971Z",
     "shell.execute_reply": "2024-12-23T09:15:05.175773Z"
    },
    "papermill": {
     "duration": 7.750651,
     "end_time": "2024-12-23T09:15:05.178726",
     "exception": false,
     "start_time": "2024-12-23T09:14:57.428075",
     "status": "completed"
    },
    "tags": []
   },
   "outputs": [
    {
     "name": "stdout",
     "output_type": "stream",
     "text": [
      "One-Shot Prompt Result:\n",
      "Generated Summary: ,ahanahang yang.. meng.. dan meng,.. yang.,angangat yang.at .ang,.an., itu.ahungah ke keanang ke..angah,. yangat,an,,,. dan.nyanyaah.ah.,.,ung..ahah..,, dan. ...an,.aham..ai.ah di..i..am. ah. danangah.ik..201..at dan.. itu..ung.ah dan.ung .ah .,ah.am di.at., .anah. ).. ini\n",
      "\n",
      "Reference: Eman Ahmed Abd El Aty memiliki berat badan mencapai 500 kilogram sebelum menjalankan operasi di Mumbai Maret lalu dimana ia mengurangi seperlima dari berat badannya . Abd El Aty diberi diet cairan khusus selama berada di India yang bertujuan menurunkan berat badan . Kini , berat badannya telah turun drastis sebanyak 323 kilogram dalam tiga bulan . Sekarang berat badannya tinggal 176,6 kilogram .\n"
     ]
    }
   ],
   "source": [
    "torch.cuda.empty_cache()\n",
    "print(\"One-Shot Prompt Result:\")\n",
    "print(\"Generated Summary:\", generate_summary(test_dataset['document'][1], prompt_type=\"one-shot\"))\n",
    "print()\n",
    "print(f\"Reference: {test_dataset['summary'][0]}\")"
   ]
  },
  {
   "cell_type": "code",
   "execution_count": 13,
   "id": "85ae4214",
   "metadata": {
    "execution": {
     "iopub.execute_input": "2024-12-23T09:15:05.323003Z",
     "iopub.status.busy": "2024-12-23T09:15:05.322678Z",
     "iopub.status.idle": "2024-12-23T09:15:10.838787Z",
     "shell.execute_reply": "2024-12-23T09:15:10.837848Z"
    },
    "papermill": {
     "duration": 5.588157,
     "end_time": "2024-12-23T09:15:10.840252",
     "exception": false,
     "start_time": "2024-12-23T09:15:05.252095",
     "status": "completed"
    },
    "tags": []
   },
   "outputs": [
    {
     "name": "stdout",
     "output_type": "stream",
     "text": [
      "Few-Shot Prompt Result:\n",
      "Generated Summary: ... -. diang. .. )an ., dan. )ang dan.,..ang..,ah . ).,an. dan.. ) ,.,,. ) yang yang., .kan yang.. danung..an..a.. di.. k.. men..ah..i ,, , danah. di dan. danahai yangat. yang,. dan ).. ini., yang. yang. dan. di.ah dii..at..el. dan . diai..ai. at. diat. ),\n"
     ]
    }
   ],
   "source": [
    "torch.cuda.empty_cache()\n",
    "print(\"Few-Shot Prompt Result:\")\n",
    "print(\"Generated Summary:\", generate_summary(input_text, prompt_type=\"few-shot\"))"
   ]
  },
  {
   "cell_type": "code",
   "execution_count": 14,
   "id": "dbcf6391",
   "metadata": {
    "execution": {
     "iopub.execute_input": "2024-12-23T09:15:10.972343Z",
     "iopub.status.busy": "2024-12-23T09:15:10.972030Z",
     "iopub.status.idle": "2024-12-23T09:22:51.766104Z",
     "shell.execute_reply": "2024-12-23T09:22:51.765175Z"
    },
    "papermill": {
     "duration": 460.861043,
     "end_time": "2024-12-23T09:22:51.767515",
     "exception": false,
     "start_time": "2024-12-23T09:15:10.906472",
     "status": "completed"
    },
    "scrolled": true,
    "tags": []
   },
   "outputs": [
    {
     "name": "stdout",
     "output_type": "stream",
     "text": [
      "Generated summaries 1/100\n",
      "Generated summaries 2/100\n",
      "Generated summaries 3/100\n",
      "Generated summaries 4/100\n",
      "Generated summaries 5/100\n",
      "Generated summaries 6/100\n",
      "Generated summaries 7/100\n",
      "Generated summaries 8/100\n",
      "Generated summaries 9/100\n",
      "Generated summaries 10/100\n",
      "Generated summaries 11/100\n",
      "Generated summaries 12/100\n",
      "Generated summaries 13/100\n",
      "Generated summaries 14/100\n",
      "Generated summaries 15/100\n",
      "Generated summaries 16/100\n",
      "Generated summaries 17/100\n",
      "Generated summaries 18/100\n",
      "Generated summaries 19/100\n",
      "Generated summaries 20/100\n",
      "Generated summaries 21/100\n",
      "Generated summaries 22/100\n",
      "Generated summaries 23/100\n",
      "Generated summaries 24/100\n",
      "Generated summaries 25/100\n",
      "Generated summaries 26/100\n",
      "Generated summaries 27/100\n",
      "Generated summaries 28/100\n",
      "Generated summaries 29/100\n",
      "Generated summaries 30/100\n",
      "Generated summaries 31/100\n",
      "Generated summaries 32/100\n",
      "Generated summaries 33/100\n",
      "Generated summaries 34/100\n",
      "Generated summaries 35/100\n",
      "Generated summaries 36/100\n",
      "Generated summaries 37/100\n",
      "Generated summaries 38/100\n",
      "Generated summaries 39/100\n",
      "Generated summaries 40/100\n",
      "Generated summaries 41/100\n",
      "Generated summaries 42/100\n",
      "Generated summaries 43/100\n",
      "Generated summaries 44/100\n",
      "Generated summaries 45/100\n",
      "Generated summaries 46/100\n",
      "Generated summaries 47/100\n",
      "Generated summaries 48/100\n",
      "Generated summaries 49/100\n",
      "Generated summaries 50/100\n",
      "Generated summaries 51/100\n",
      "Generated summaries 52/100\n",
      "Generated summaries 53/100\n",
      "Generated summaries 54/100\n",
      "Generated summaries 55/100\n",
      "Generated summaries 56/100\n",
      "Generated summaries 57/100\n",
      "Generated summaries 58/100\n",
      "Generated summaries 59/100\n",
      "Generated summaries 60/100\n",
      "Generated summaries 61/100\n",
      "Generated summaries 62/100\n",
      "Generated summaries 63/100\n",
      "Generated summaries 64/100\n",
      "Generated summaries 65/100\n",
      "Generated summaries 66/100\n",
      "Generated summaries 67/100\n",
      "Generated summaries 68/100\n",
      "Generated summaries 69/100\n",
      "Generated summaries 70/100\n",
      "Generated summaries 71/100\n",
      "Generated summaries 72/100\n",
      "Generated summaries 73/100\n",
      "Generated summaries 74/100\n",
      "Generated summaries 75/100\n",
      "Generated summaries 76/100\n",
      "Generated summaries 77/100\n",
      "Generated summaries 78/100\n",
      "Generated summaries 79/100\n",
      "Generated summaries 80/100\n",
      "Generated summaries 81/100\n",
      "Generated summaries 82/100\n",
      "Generated summaries 83/100\n",
      "Generated summaries 84/100\n",
      "Generated summaries 85/100\n",
      "Generated summaries 86/100\n",
      "Generated summaries 87/100\n",
      "Generated summaries 88/100\n",
      "Generated summaries 89/100\n",
      "Generated summaries 90/100\n",
      "Generated summaries 91/100\n",
      "Generated summaries 92/100\n",
      "Generated summaries 93/100\n",
      "Generated summaries 94/100\n",
      "Generated summaries 95/100\n",
      "Generated summaries 96/100\n",
      "Generated summaries 97/100\n",
      "Generated summaries 98/100\n",
      "Generated summaries 99/100\n",
      "Generated summaries 100/100\n"
     ]
    }
   ],
   "source": [
    "generated_summaries_1shot = []\n",
    "for i in range(100):\n",
    "    result = generate_summary(test_dataset['document'][i], prompt_type=\"one-shot\")\n",
    "    generated_summaries_1shot.append(result)\n",
    "    print(f\"Generated summaries {i+1}/{100}\")"
   ]
  },
  {
   "cell_type": "code",
   "execution_count": 15,
   "id": "a05b7b47",
   "metadata": {
    "execution": {
     "iopub.execute_input": "2024-12-23T09:22:51.906598Z",
     "iopub.status.busy": "2024-12-23T09:22:51.906325Z",
     "iopub.status.idle": "2024-12-23T09:22:51.989423Z",
     "shell.execute_reply": "2024-12-23T09:22:51.988312Z"
    },
    "papermill": {
     "duration": 0.153768,
     "end_time": "2024-12-23T09:22:51.990927",
     "exception": false,
     "start_time": "2024-12-23T09:22:51.837159",
     "status": "completed"
    },
    "scrolled": true,
    "tags": []
   },
   "outputs": [
    {
     "name": "stdout",
     "output_type": "stream",
     "text": [
      "Input : Jakarta , CNN Indonesia - - Dilansir AFP , seorang warga Mesir yang dipercaya sebagai wanita terberat di dunia masuk sebuah rumah sakit di Abu Dhabi Kamis ( 5 / 5 ) , dimana ia akan melanjutkan perawatan setelah menjalankan operasi menurunkan badan di India . Eman Ahmed Abd El Aty memiliki berat badan mencapai 500 kilogram sebelum menjalankan operasi di Mumbai Maret lalu dimana ia mengurangi seperlima dari berat badannya . Ia menderita berbagai macam masalah kesehatan termasuk penyakit gajah , kondisi yang menyebabkan anggota badan membengkak . Abd El Aty diberi diet cairan khusus selama berada di India yang bertujuan menurunkan berat badan . Diet ini memungkinkan dokter melakukan operasi bariatrik , prosedur bypass yang kini sering dilakukan di India dalam menghadapi masalah obesitas yang bertambah banyak . Ia tiba di India dengan menggunakan pesawat Airbus yang secara khusus telah dimodifikasi khusus untuk mengangkutnya pada bulan Februari . Kini , berat badannya telah turun drastis sebanyak 323 kilogram dalam tiga bulan . Sekarang berat badannya tinggal 176,6 kilogram . Rencananya , diterangkan oleh dokternya di Mumbai , ia akan menjalani fisioterapi selama setahun penuh di rumah sakit VPS Burjeel , Abu Dhabi . “ Kami telah mengatur tandu hidrolik dari Italia untuk perjalanan Eman dan ia akan didampingi oleh dokter , paramedis dan suster dalam perjalanan pindah ini , ” terang Sanet Meyer , direktur medevac di VPS Burjeel , kepada AFP . Koran - koran di Uni Emirat Arab melaporkan jika saudara perempuan Abd El Aty , Shaima , tidak setuju dengan penanganan tim medis India . “ Saya minta bantuan setelah memperhatikan lambatnya cara kerja tim di India , ” ungkapnya . Abd El Aty tidak pernah meninggalkan rumahnya di Alexandria , kota pelabuhan Mediterania di Mesir selama dua puluh tahun , sebelum akhirnya berangkat ke India . Keluarganya memberitahu para dokter jika ia telah didiagnosa dengan penyakit kaki gajah sejak kecil sehingga itu yang menyebabkan ia tidak bisa aktif bergerak . Abd El Aty pernah terkena serangan jantung dan menghadapi berbagai penyakit serius sebagai akibat dari berat bedannya seperti diabetes , tekan darah tinggi , hipertensi dan kurang tidur . Ia juga tidak dapat berbicara dengan benar dan sebagian tubuhnya lumpuh . India dikenal sebagai tujuan turis medis yang mencari pelayanan berkualitas yang jauh lebih murah dibanding jasa yang sama di negara barat dan juga tidak harus menunggu lama . Juli tahun lalu , Guinness Book of World Records mencatat warga AS Pauline Potter sebagai wanita terberat dengan berat badan 293 kilogram , jauh di atas berat badan Abd El Aty yang sekarang .\n",
      "Generated : ,an k..,at.,..an.,an...ah..kanah,anah,ah.ang,.ahahah,,.an,ah,.,, dan., danel..angahah. danan.ah, di.. ..el.anan. di.an p.. yang.. ).. ber.. ke,. berat .an . yang. .,ah - -..uk.,ang.. meng.. /,.at.ah ). dan.. -.anah. ah.,kan., ke ah dan. ) /\n",
      "Reference : Eman Ahmed Abd El Aty memiliki berat badan mencapai 500 kilogram sebelum menjalankan operasi di Mumbai Maret lalu dimana ia mengurangi seperlima dari berat badannya . Abd El Aty diberi diet cairan khusus selama berada di India yang bertujuan menurunkan berat badan . Kini , berat badannya telah turun drastis sebanyak 323 kilogram dalam tiga bulan . Sekarang berat badannya tinggal 176,6 kilogram .\n",
      "\n",
      "Input : Menteri Pertahanan Ryamizard Ryacudu menyambut baik usulan pembelian drone dari China untuk dikembangkan di Indonesia . Pesawat tanpa awak itu rencananya digunakan untuk misi pertahanan , yaitu mengawasi daerah perbatasan . \" Kita atau orang China , orang manapun , beli pasti dia bedah itu , pelajari . Kita juga beli sedikit satu atau dua , kemudian kita pelajari untuk menambah kecanggihan itu . Semuanya begitu , \" ujar Ryamizard di Bogor , Kamis ( 27 / 7 ) . Ia mengungkapkan penelitian dan riset untuk alutsista itu memang memakan anggaran yang cukup mahal . Namun , tindakan itu dilakukan untuk memodernkan alat utama sistem pertahanan Indonesia . Apalagi , kata Ryamizard , sumber daya manusia Indonesia sudah cukup mumpuni untuk mengembangkan drone . \" Memang untuk penelitian percobaan itu mahal . Kalau kita mau maju ya mahal . Tapi yang utama itu ini , jadi untuk perbatasan sudah cukup , kemudian di Manado dipasang bisa memantau kegiatan teror itu di situ juga , \" ungkapnya . Sebelumnya , Kepala Badan Sarana Pertahanan Kemhan , Laksamana Muda Leonardi , mengatakan drone yang bakal dibeli dari China akan menyesuaikan kebutuhan dari TNI AU yaitu Medium Altitude Long Endurance ( MALE ) . Saat ini pengadaan drone tersebut masih terus berjalan setelah pihak pemerintah China memperbolehkan Indonesia memiliki drone dengan teknologi tersebut . Laporan reporter kumparan Ferio Pristiawan\n",
      "Generated : ...,. yang.at..ahkan, yang,at.ah. yang danah.ah,ang..nya.. men, dan..at dan., danah,,,.,,ah,ah.. dan.an.. meng..ai., ah.an dan.am.. k..i..am dan. p..ap. danang. danam.amat.am201..anah ..kan.. Indonesia..ut.atkan.an dengan..ang.,asi.atakang.un. ahan.aiangang.anungai.an . amah.\n",
      "Reference : Menteri Pertahanan Ryamizard Ryacudu menyambut baik usulan pembelian drone dari China untuk dikembangkan di Indonesia . Pesawat tanpa awak itu rencananya digunakan untuk misi pertahanan , yaitu mengawasi daerah perbatasan . \" Kita atau orang China , orang manapun , beli pasti dia bedah itu , pelajari . Kita juga beli sedikit satu atau dua , kemudian kita pelajari untuk menambah kecanggihan itu . Semuanya begitu , \" ujar Ryamizard di Bogor , Kamis ( 27 / 7 ) .\n",
      "\n",
      "Input : Jakarta , CNN Indonesia - - Meski sudah hampir 12 tahun berlalu , film Mean Girls merupakan salah satu film remaja sepanjang masa yang sulit untuk dilupakan . Tak heran kemudian , rumah produksi film yang dibintangi Lindsay Lohan , Rachel McAdams dan Amanda Seyfried ini kemudian memutuskan akan mengadaptasinya untuk dibuat dalam versi musikal . Konfirmasi akan kepastian adaptasi dari film yang naskah skenarionya ditulis Tina Fey dan disutradara Mark Waters ini diumumkan lewat akun resmi Twitter dan Facebook MeanGirlsDC . Dijadwalkan pementasan musikal dari adaptasi naskah   itu akan berlangsung September , tahun depan di Washington DC . Kabar adaptasi ke musikal ini , seperti dikutip dari NME ,   muncul pada Senin ( 3 / 10 ) , yang juga ditandai sebagai Mean Girls Day oleh para penggemarnya . Sebelumnya , keinginan untuk mengadaptasi Mean Girls ke musikal sudah muncul pada Maret lalu . Fey pada Metro mengatakan , \" Saya , suami saya , komposer Jeff Richmond , dan penulis lirik Nell Benjamin , akan bekerja sama untuk adaptasi musikal ini . \" Nell Benjamin sebelumnya juga pernah membuat musikal Legally Blonde . Kepastian nama tempat dan tanggal pementasan belum diinformasikan , akan tetapi pihak Mean Girls memastikan akan mengumumkannya lewat akun media sosial mereka dalam waktu dekat . Mean Girls Day Para penggemar film Mean Girls menetapkan 3 Oktober sebagai Mean Girls Day . Ini mengacu pada salah satu dialog yang disampaikan tokoh   utamanya   Cady Heron ( yang diperankan Lindsay Lohan ) , ketika ditanyai laki-laki yang ia sukai Aaron Samuels ( Jonathan Bennett ) akan waktu , yang kemudian ia jawab , \" Ini 3 Oktober \" . Kutipan tersebut menjadi salah satu adegan berkesan sepanjang film Mean Girls , yang kemudian dinobatkan para pencinta film sebagai Mean Girls Day . Lohan , pada Senin ( 3 / 10 ) juga turut merayakannya dengan membagi postingan cuplikan percakapannya , dan poster Mean Girls bertuliskan \" It 's October 3rd #NationalMeanGirlsDay \" . Ungkapan itu ia sertai hashtag #whatdayisit , meski di saat yang sama ia sedang dirawat di rumah sakit   karena insiden luka di bagian jari akibat jangkal kapal saat ia berliburan di Turki . ( rsa )\n",
      "Generated : .an,, diakan,,..ang,,, ber.,.,iang.,,i. di,, ). di.i ,.nya,.at, dikan .kan dikan dan, danah., ke,i,,ar...nyaakan, ahakan,kan.,u..,atang..akan.. dan..i dan. yang.. ber..an.. di dan.i..ar. .. k..ama..ah.. ke.. ke.arnya..u.ang.ah yang.ar )..anya..at., ) dan.\n",
      "Reference : Rumah produksi film yang dibintangi Lindsay Lohan , Rachel McAdams dan Amanda Seyfried ini kemudian memutuskan akan mengadaptasinya untuk dibuat dalam versi musikal . Meski sudah hampir 12 tahun berlalu , film Mean Girls   merupakan salah satu film remaja sepanjang masa yang sulit untuk dilupakan . Dijadwalkan pementasan musikal dari adaptasi naskah   itu akan berlangsung September , tahun depan di Washington DC .\n",
      "\n",
      "Input : Usai melaksanakan ibadah haji , Eggi Sudjana akhirnya mendatangi kantor Bareskrim Polri , Jakarta , Senin ( 18 / 9 ) , untuk memberikan klarifikasi terkait pencatutan namanya di struktur organisasi Saracen . Eggi juga menyebutkan , ia sama sekali tidak mengenal atau terlibat dalam sindikat penyebar berita palsu tersebut . \" Saya nyatakan dengan jelas , pakai bahasa Islam lebih meyakinkan , dengan sumpah demi Allah masih haji nih , Insyaalah masih bersih , saya tidak tahu menahu tentang Saracen apalagi terlibat , \" ungkap Eggi yang mengaku heran saat mendapatkan panggilan dari kepolisian . Eggi menyebut tersangka Saracen , Jasriadi , bahkan sudah secara terbuka menyatakan bahwa nama Eggi dicomot secara asal dan masih dalam tahap wacana saja . Sehingga , menurut Eggi , secara ilmu hukum tuduhan terhadap dirinya akan secara otomatis gugur . \" Nanti kan poin ini itu harusnya clear buat saya . Tidak ada tuduhan apapun , gugur kepada saya , \" tambahnya . Terkait kasus tersebut , Eggi mengaku tidak akan datang jika kembali dipanggil menjadi saksi . Menurutnya , ia tidak bisa memenuhi panggilan sebagai saksi karena tidak memiliki hubungan dengan Saracen . \" Tapi kalau diundang untuk klarifikasi , baru saya mau datang . Tapi kalau panggilan sebagai saksi apalagi tersangka tiba-tiba ya , itu tidak benar . Tapi kalau panggilan diundang menjelaskan ya barulah saya pertimbangkan apa perlu apa enggak . Karena saya sendiri sudah datang ke sini , sudah berani klarifikasi sendiri kan , \" tambahnya . Sebelumnya , nama Eggi Sudjana disebut masuk dalam struktur kepengurusan Saracen bersama dengan Mayjen Ampi Tanudjiwa . Dalam struktur tersebut , Eggi ditulis sebagai anggota dewan penasehat , sementara Mayjen Ampi sebagai ketua dewan penasihat .\n",
      "Generated : . meng,.al...at.. ke,kan.. yang dan.i.,,,an. diangang..kan di akan di., ).. ,,.,.. ki di, yang, dan..,kan yang,.ang,. ., yang..an.at . yangkan. ah di.. ber.. di.at k..alkan., (..ah..ang. /.. ).ah, dan .. / . di,.nya..i,.5 . mengi..ak..a. dengan. dan di di\n",
      "Reference : Eggi Sudjana akhirnya mendatangi kantor Bareskrim Polri , Jakarta , Senin ( 18 / 9 ) , untuk memberikan klarifikasi terkait pencatutan namanya di struktur organisasi Saracen . Eggi juga menyebutkan , ia sama sekali tidak mengenal atau terlibat dalam sindikat penyebar berita palsu tersebut . Eggi mengaku tidak akan datang jika kembali dipanggil menjadi saksi . Menurutnya , ia tidak bisa memenuhi panggilan sebagai saksi karena tidak memiliki hubungan dengan Saracen .\n",
      "\n",
      "Input : Banyak cara untuk memberikan pengajaran kepada anak , termasuk melalui cara yang atraktif dan kreatif . Seperti yang coba diusung dalam game permainan Kartu Muslim . Menggunakan basis teknologi Augmented Reality ( AR ) , permainan kartu tersebut memberikan pengajaran agama kepada anak-anak . Penggunaannya cukup sederhana , kartu berhologram khusus dipasarkan dalam satu set produk , misalnya dalam seri belajar Wudhu . Untuk menyajikan konten unik di dalamnya , kartu tersebut dapat disorot menggunakan kamera dan aplikasi khusus di ponsel Android . Pada awalnya Kartu Muslim adalah sebuah karya kolaborasi antara Touchten dan Ustad Wijayanto . Saat ini Kartu Pintar masih terus dilanjutkan pengembangan bisnisnya , salah satunya oleh Nilwafa Praduta , Co - Founder Kartu Muslim sekaligus Art Director di Touchten Games . Beberapa rekannya di Touchten juga masih tetap membantu pengembangannya . “ Ide awalnya dari kebutuhan pribadi saya untuk mengajarkan anak tentang agama Islam , sebagai orang tua baru saya berpikir bagaimana bisa menyajikannya agar anak cepat tangkap dan mengerti tanpa ada pemaksaan , karena jika anak dipaksa belajar takut dia akan malah menjauh . Alhamdulillah Touchten sangat mendukung ide itu dan sebagian talent yang mengerjakan kartu muslim adalah dari dalam Touchten sendiri , ” ujar Nilwafa . Kartu Muslim dikembangkan dalam tiga bagian utama , yakni konten , fisik kartu , dan aplikasi . Untuk pengerjaan konten , tim pengembang masih bekerja sama dengan Ustad Wijayanto , dan direpresentasikan dalam animasi dan kartu oleh artist dan graphic desainer Kartu Muslim . Untuk aplikasinya sendiri dibuat oleh pengembang menggunakan teknologi AR dan program Unity yang biasa dipakai untuk pembuatan mobile games pada umumnya . “ Kami rasa aplikasi AR di masa depan akan terintegrasi dengan baik dan natural pada kehidupan sehari-hari , AR dapat membantu memberikan added value atau informasi tambahan pada masyarakat dan akan semakin banyak produk yang memakainya , ” lanjut Nilwafa . Terkait pengembangan produk Kartu Muslim , Nilwafa turut menerangkan ke depannya akan ada terus dikembangkan tema lain . Pihaknya juga mengaku tidak menutup diri akan inovasi selain bentuk kartu , karena akan selalu menyesuaikan dengan kebutuhan masyarakat , terutama orang tua yang ingin mengajarkan anaknya . “ Kami sangat gembira atas sambutan masyarakat Indonesia yang sangat baik atas produk kami selama ini , dan kami ingin terus menyajikan produk yang lebih baik dan lebih menarik lagi , kami berharap Kartu Muslim dapat terus diterima dengan baik dan dapat menjadi bentuk kontribusi dan media dakwah kami terhadap generasi penerus bangsa ini , ” pungkas Nilwafa . DailySocial.id adalah portal berita startup dan inovasi teknologi . Kamu bisa menjadi member komunitas startup dan inovasi DailySocial.id , mengunduh laporan riset dan statistik seputar teknologi secara cuma-cuma , dan mengikuti berita startup Indonesia dan gadget terbaru .\n",
      "Generated : ... di dan meng.,..,,.an. -,. ., di. di.. yang.,ang, di,,, diang.. -..nya..ah ..an . dan.. ini , dan.kan.. ke..at.. dan yang.. teran.. ).. ber,, k.,at,. ini.. itu..annya,. diannya..asi di.,an, yang. meng,., ). di,. -an. danan.,ak.. ,.i..u..ang.anah.an -.,kan. dan\n",
      "Reference : Game permainan Kartu Muslim . Menggunakan basis teknologi Augmented Reality ( AR ) , permainan kartu tersebut memberikan pengajaran agama kepada anak-anak . Penggunaannya cukup sederhana , kartu berhologram khusus dipasarkan dalam satu set produk , misalnya dalam seri belajar Wudhu . Untuk menyajikan konten unik di dalamnya , kartu tersebut dapat disorot menggunakan kamera dan aplikasi khusus di ponsel Android .\n",
      "\n"
     ]
    }
   ],
   "source": [
    "for i in range(5):\n",
    "  print(f\"Input : {test_dataset['document'][i]}\")\n",
    "  print(f\"Generated : {generated_summaries_1shot[i]}\")\n",
    "  print(f\"Reference : {test_dataset['summary'][i]}\")\n",
    "  print()"
   ]
  },
  {
   "cell_type": "code",
   "execution_count": 16,
   "id": "2ea20939",
   "metadata": {
    "execution": {
     "iopub.execute_input": "2024-12-23T09:22:52.133636Z",
     "iopub.status.busy": "2024-12-23T09:22:52.133341Z",
     "iopub.status.idle": "2024-12-23T09:22:57.447569Z",
     "shell.execute_reply": "2024-12-23T09:22:57.446350Z"
    },
    "papermill": {
     "duration": 5.386234,
     "end_time": "2024-12-23T09:22:57.449240",
     "exception": false,
     "start_time": "2024-12-23T09:22:52.063006",
     "status": "completed"
    },
    "tags": []
   },
   "outputs": [
    {
     "name": "stderr",
     "output_type": "stream",
     "text": [
      "/usr/lib/python3.10/pty.py:89: RuntimeWarning: os.fork() was called. os.fork() is incompatible with multithreaded code, and JAX is multithreaded, so this will likely lead to a deadlock.\n",
      "  pid, fd = os.forkpty()\n"
     ]
    },
    {
     "name": "stdout",
     "output_type": "stream",
     "text": [
      "Collecting rouge_score\r\n",
      "  Downloading rouge_score-0.1.2.tar.gz (17 kB)\r\n",
      "  Preparing metadata (setup.py) ... \u001b[?25l\u001b[?25hdone\r\n",
      "Requirement already satisfied: absl-py in /usr/local/lib/python3.10/dist-packages (from rouge_score) (1.4.0)\r\n",
      "Requirement already satisfied: nltk in /usr/local/lib/python3.10/dist-packages (from rouge_score) (3.2.4)\r\n",
      "Requirement already satisfied: numpy in /usr/local/lib/python3.10/dist-packages (from rouge_score) (1.26.4)\r\n",
      "Requirement already satisfied: six>=1.14.0 in /usr/local/lib/python3.10/dist-packages (from rouge_score) (1.16.0)\r\n",
      "Building wheels for collected packages: rouge_score\r\n",
      "  Building wheel for rouge_score (setup.py) ... \u001b[?25l\u001b[?25hdone\r\n",
      "  Created wheel for rouge_score: filename=rouge_score-0.1.2-py3-none-any.whl size=24935 sha256=427a851d699056f914aaee7e688f57862ae64cee62fadd17236aa2245b49911c\r\n",
      "  Stored in directory: /root/.cache/pip/wheels/5f/dd/89/461065a73be61a532ff8599a28e9beef17985c9e9c31e541b4\r\n",
      "Successfully built rouge_score\r\n",
      "Installing collected packages: rouge_score\r\n",
      "Successfully installed rouge_score-0.1.2\r\n"
     ]
    }
   ],
   "source": [
    "!pip install rouge_score"
   ]
  },
  {
   "cell_type": "code",
   "execution_count": 17,
   "id": "cf5b0ebd",
   "metadata": {
    "execution": {
     "iopub.execute_input": "2024-12-23T09:22:57.591755Z",
     "iopub.status.busy": "2024-12-23T09:22:57.591455Z",
     "iopub.status.idle": "2024-12-23T09:22:58.221212Z",
     "shell.execute_reply": "2024-12-23T09:22:58.220334Z"
    },
    "papermill": {
     "duration": 0.70126,
     "end_time": "2024-12-23T09:22:58.222573",
     "exception": false,
     "start_time": "2024-12-23T09:22:57.521313",
     "status": "completed"
    },
    "tags": []
   },
   "outputs": [
    {
     "name": "stdout",
     "output_type": "stream",
     "text": [
      "ROUGE Scores: {'rouge1': 0.07826295627438791, 'rouge2': 0.0001941747572815534, 'rougeL': 0.06488781835214036}\n"
     ]
    }
   ],
   "source": [
    "from rouge_score import rouge_scorer\n",
    "import numpy as np\n",
    "\n",
    "def compute_rouge(reference_summaries, generated_summaries):\n",
    "    scorer = rouge_scorer.RougeScorer([\"rouge1\", \"rouge2\", \"rougeL\"], use_stemmer=True)\n",
    "    rouge1_scores, rouge2_scores, rougeL_scores = [], [], []\n",
    "\n",
    "    for ref, gen in zip(reference_summaries, generated_summaries):\n",
    "        scores = scorer.score(ref, gen)\n",
    "        rouge1_scores.append(scores[\"rouge1\"].fmeasure)\n",
    "        rouge2_scores.append(scores[\"rouge2\"].fmeasure)\n",
    "        rougeL_scores.append(scores[\"rougeL\"].fmeasure)\n",
    "\n",
    "    # Return average scores\n",
    "    return {\n",
    "        \"rouge1\": np.mean(rouge1_scores),\n",
    "        \"rouge2\": np.mean(rouge2_scores),\n",
    "        \"rougeL\": np.mean(rougeL_scores),\n",
    "    }\n",
    "\n",
    "# Evaluate summaries\n",
    "rouge_scores = compute_rouge(test_dataset['summary'], generated_summaries_1shot)\n",
    "print(\"ROUGE Scores:\", rouge_scores)"
   ]
  },
  {
   "cell_type": "code",
   "execution_count": 18,
   "id": "56beea20",
   "metadata": {
    "execution": {
     "iopub.execute_input": "2024-12-23T09:22:58.364325Z",
     "iopub.status.busy": "2024-12-23T09:22:58.363981Z",
     "iopub.status.idle": "2024-12-23T09:22:58.367856Z",
     "shell.execute_reply": "2024-12-23T09:22:58.367083Z"
    },
    "papermill": {
     "duration": 0.076472,
     "end_time": "2024-12-23T09:22:58.369222",
     "exception": false,
     "start_time": "2024-12-23T09:22:58.292750",
     "status": "completed"
    },
    "tags": []
   },
   "outputs": [],
   "source": [
    "import pickle"
   ]
  },
  {
   "cell_type": "code",
   "execution_count": 19,
   "id": "62b3a4ec",
   "metadata": {
    "execution": {
     "iopub.execute_input": "2024-12-23T09:22:58.512539Z",
     "iopub.status.busy": "2024-12-23T09:22:58.512259Z",
     "iopub.status.idle": "2024-12-23T09:22:58.516171Z",
     "shell.execute_reply": "2024-12-23T09:22:58.515527Z"
    },
    "papermill": {
     "duration": 0.076199,
     "end_time": "2024-12-23T09:22:58.517380",
     "exception": false,
     "start_time": "2024-12-23T09:22:58.441181",
     "status": "completed"
    },
    "tags": []
   },
   "outputs": [],
   "source": [
    "with open('./summaries_and_scores_1shot.pkl', 'wb') as f:\n",
    "    pickle.dump({\n",
    "        'generated_summaries': generated_summaries_1shot,\n",
    "        'rouge_scores': rouge_scores\n",
    "    }, f)"
   ]
  },
  {
   "cell_type": "code",
   "execution_count": 20,
   "id": "ac79f4c8",
   "metadata": {
    "execution": {
     "iopub.execute_input": "2024-12-23T09:22:58.658732Z",
     "iopub.status.busy": "2024-12-23T09:22:58.658472Z",
     "iopub.status.idle": "2024-12-23T09:22:58.662419Z",
     "shell.execute_reply": "2024-12-23T09:22:58.661738Z"
    },
    "papermill": {
     "duration": 0.07586,
     "end_time": "2024-12-23T09:22:58.663560",
     "exception": false,
     "start_time": "2024-12-23T09:22:58.587700",
     "status": "completed"
    },
    "tags": []
   },
   "outputs": [],
   "source": [
    "with open('./summaries_and_scores_1shot.pkl', 'rb') as f:\n",
    "    loaded_data = pickle.load(f)\n",
    "    generated_summaries_1shot = loaded_data['generated_summaries']\n",
    "    rouge_scores = loaded_data['rouge_scores']"
   ]
  },
  {
   "cell_type": "code",
   "execution_count": 21,
   "id": "5550396a",
   "metadata": {
    "execution": {
     "iopub.execute_input": "2024-12-23T09:22:58.804551Z",
     "iopub.status.busy": "2024-12-23T09:22:58.804235Z",
     "iopub.status.idle": "2024-12-23T09:22:58.807499Z",
     "shell.execute_reply": "2024-12-23T09:22:58.806820Z"
    },
    "papermill": {
     "duration": 0.074953,
     "end_time": "2024-12-23T09:22:58.808685",
     "exception": false,
     "start_time": "2024-12-23T09:22:58.733732",
     "status": "completed"
    },
    "tags": []
   },
   "outputs": [],
   "source": [
    "generated_summaries_fewshot = []"
   ]
  },
  {
   "cell_type": "code",
   "execution_count": 22,
   "id": "e8f9a3db",
   "metadata": {
    "execution": {
     "iopub.execute_input": "2024-12-23T09:22:58.950412Z",
     "iopub.status.busy": "2024-12-23T09:22:58.950116Z",
     "iopub.status.idle": "2024-12-23T09:32:12.857140Z",
     "shell.execute_reply": "2024-12-23T09:32:12.856109Z"
    },
    "papermill": {
     "duration": 553.978394,
     "end_time": "2024-12-23T09:32:12.858622",
     "exception": false,
     "start_time": "2024-12-23T09:22:58.880228",
     "status": "completed"
    },
    "tags": []
   },
   "outputs": [
    {
     "name": "stdout",
     "output_type": "stream",
     "text": [
      "Generated summaries 1/100\n",
      "Generated summaries 2/100\n",
      "Generated summaries 3/100\n",
      "Generated summaries 4/100\n",
      "Generated summaries 5/100\n",
      "Generated summaries 6/100\n",
      "Generated summaries 7/100\n",
      "Generated summaries 8/100\n",
      "Generated summaries 9/100\n",
      "Generated summaries 10/100\n",
      "Generated summaries 11/100\n",
      "Generated summaries 12/100\n",
      "Generated summaries 13/100\n",
      "Generated summaries 14/100\n",
      "Generated summaries 15/100\n",
      "Generated summaries 16/100\n",
      "Generated summaries 17/100\n",
      "Generated summaries 18/100\n",
      "Generated summaries 19/100\n",
      "Generated summaries 20/100\n",
      "Generated summaries 21/100\n",
      "Generated summaries 22/100\n",
      "Generated summaries 23/100\n",
      "Generated summaries 24/100\n",
      "Generated summaries 25/100\n",
      "Generated summaries 26/100\n",
      "Generated summaries 27/100\n",
      "Generated summaries 28/100\n",
      "Generated summaries 29/100\n",
      "Generated summaries 30/100\n",
      "Generated summaries 31/100\n",
      "Generated summaries 32/100\n",
      "Generated summaries 33/100\n",
      "Generated summaries 34/100\n",
      "Generated summaries 35/100\n",
      "Generated summaries 36/100\n",
      "Generated summaries 37/100\n",
      "Generated summaries 38/100\n",
      "Generated summaries 39/100\n",
      "Generated summaries 40/100\n",
      "Generated summaries 41/100\n",
      "Generated summaries 42/100\n",
      "Generated summaries 43/100\n",
      "Generated summaries 44/100\n",
      "Generated summaries 45/100\n",
      "Generated summaries 46/100\n",
      "Generated summaries 47/100\n",
      "Generated summaries 48/100\n",
      "Generated summaries 49/100\n",
      "Generated summaries 50/100\n",
      "Generated summaries 51/100\n",
      "Generated summaries 52/100\n",
      "Generated summaries 53/100\n",
      "Generated summaries 54/100\n",
      "Generated summaries 55/100\n",
      "Generated summaries 56/100\n",
      "Generated summaries 57/100\n",
      "Generated summaries 58/100\n",
      "Generated summaries 59/100\n",
      "Generated summaries 60/100\n",
      "Generated summaries 61/100\n",
      "Generated summaries 62/100\n",
      "Generated summaries 63/100\n",
      "Generated summaries 64/100\n",
      "Generated summaries 65/100\n",
      "Generated summaries 66/100\n",
      "Generated summaries 67/100\n",
      "Generated summaries 68/100\n",
      "Generated summaries 69/100\n",
      "Generated summaries 70/100\n",
      "Generated summaries 71/100\n",
      "Generated summaries 72/100\n",
      "Generated summaries 73/100\n",
      "Generated summaries 74/100\n",
      "Generated summaries 75/100\n",
      "Generated summaries 76/100\n",
      "Generated summaries 77/100\n",
      "Generated summaries 78/100\n",
      "Generated summaries 79/100\n",
      "Generated summaries 80/100\n",
      "Generated summaries 81/100\n",
      "Generated summaries 82/100\n",
      "Generated summaries 83/100\n",
      "Generated summaries 84/100\n",
      "Generated summaries 85/100\n",
      "Generated summaries 86/100\n",
      "Generated summaries 87/100\n",
      "Generated summaries 88/100\n",
      "Generated summaries 89/100\n",
      "Generated summaries 90/100\n",
      "Generated summaries 91/100\n",
      "Generated summaries 92/100\n",
      "Generated summaries 93/100\n",
      "Generated summaries 94/100\n",
      "Generated summaries 95/100\n",
      "Generated summaries 96/100\n",
      "Generated summaries 97/100\n",
      "Generated summaries 98/100\n",
      "Generated summaries 99/100\n",
      "Generated summaries 100/100\n"
     ]
    }
   ],
   "source": [
    "for i in range(100):\n",
    "    result = generate_summary(test_dataset['document'][i], prompt_type=\"few-shot\")\n",
    "    generated_summaries_fewshot.append(result)\n",
    "    print(f\"Generated summaries {i+1}/{100}\")\n",
    "    if i + 1 % 5 == 0 and i != 0:\n",
    "        with open(f\"./summaries_fewshot-{i+1}.pkl\", 'wb') as f:\n",
    "            pickle.dump({\n",
    "                'generated_summaries': generated_summaries_fewshot,\n",
    "            }, f)"
   ]
  },
  {
   "cell_type": "code",
   "execution_count": 23,
   "id": "85f3604f",
   "metadata": {
    "execution": {
     "iopub.execute_input": "2024-12-23T09:32:13.009316Z",
     "iopub.status.busy": "2024-12-23T09:32:13.008946Z",
     "iopub.status.idle": "2024-12-23T09:32:13.081293Z",
     "shell.execute_reply": "2024-12-23T09:32:13.080218Z"
    },
    "papermill": {
     "duration": 0.14886,
     "end_time": "2024-12-23T09:32:13.082794",
     "exception": false,
     "start_time": "2024-12-23T09:32:12.933934",
     "status": "completed"
    },
    "scrolled": true,
    "tags": []
   },
   "outputs": [
    {
     "name": "stdout",
     "output_type": "stream",
     "text": [
      "Input : Jakarta , CNN Indonesia - - Dilansir AFP , seorang warga Mesir yang dipercaya sebagai wanita terberat di dunia masuk sebuah rumah sakit di Abu Dhabi Kamis ( 5 / 5 ) , dimana ia akan melanjutkan perawatan setelah menjalankan operasi menurunkan badan di India . Eman Ahmed Abd El Aty memiliki berat badan mencapai 500 kilogram sebelum menjalankan operasi di Mumbai Maret lalu dimana ia mengurangi seperlima dari berat badannya . Ia menderita berbagai macam masalah kesehatan termasuk penyakit gajah , kondisi yang menyebabkan anggota badan membengkak . Abd El Aty diberi diet cairan khusus selama berada di India yang bertujuan menurunkan berat badan . Diet ini memungkinkan dokter melakukan operasi bariatrik , prosedur bypass yang kini sering dilakukan di India dalam menghadapi masalah obesitas yang bertambah banyak . Ia tiba di India dengan menggunakan pesawat Airbus yang secara khusus telah dimodifikasi khusus untuk mengangkutnya pada bulan Februari . Kini , berat badannya telah turun drastis sebanyak 323 kilogram dalam tiga bulan . Sekarang berat badannya tinggal 176,6 kilogram . Rencananya , diterangkan oleh dokternya di Mumbai , ia akan menjalani fisioterapi selama setahun penuh di rumah sakit VPS Burjeel , Abu Dhabi . “ Kami telah mengatur tandu hidrolik dari Italia untuk perjalanan Eman dan ia akan didampingi oleh dokter , paramedis dan suster dalam perjalanan pindah ini , ” terang Sanet Meyer , direktur medevac di VPS Burjeel , kepada AFP . Koran - koran di Uni Emirat Arab melaporkan jika saudara perempuan Abd El Aty , Shaima , tidak setuju dengan penanganan tim medis India . “ Saya minta bantuan setelah memperhatikan lambatnya cara kerja tim di India , ” ungkapnya . Abd El Aty tidak pernah meninggalkan rumahnya di Alexandria , kota pelabuhan Mediterania di Mesir selama dua puluh tahun , sebelum akhirnya berangkat ke India . Keluarganya memberitahu para dokter jika ia telah didiagnosa dengan penyakit kaki gajah sejak kecil sehingga itu yang menyebabkan ia tidak bisa aktif bergerak . Abd El Aty pernah terkena serangan jantung dan menghadapi berbagai penyakit serius sebagai akibat dari berat bedannya seperti diabetes , tekan darah tinggi , hipertensi dan kurang tidur . Ia juga tidak dapat berbicara dengan benar dan sebagian tubuhnya lumpuh . India dikenal sebagai tujuan turis medis yang mencari pelayanan berkualitas yang jauh lebih murah dibanding jasa yang sama di negara barat dan juga tidak harus menunggu lama . Juli tahun lalu , Guinness Book of World Records mencatat warga AS Pauline Potter sebagai wanita terberat dengan berat badan 293 kilogram , jauh di atas berat badan Abd El Aty yang sekarang .\n",
      "Generated : .. dan ) dan. dan,,,..,,ah. ... dan, ., ,.,. . , -.. )..an,. ) .ah,, ), ang. -,, diah,.ah.ahah..ah dan..ang.. yang dan. ) dan,. dan.ang yang. di.. dengan..at..a,. denganah.,at. )an.. -,. yang.. diah. dan )., di.,ah dan di.ahan ).ah ). )at. dan dan ) ).an\n",
      "Reference : Eman Ahmed Abd El Aty memiliki berat badan mencapai 500 kilogram sebelum menjalankan operasi di Mumbai Maret lalu dimana ia mengurangi seperlima dari berat badannya . Abd El Aty diberi diet cairan khusus selama berada di India yang bertujuan menurunkan berat badan . Kini , berat badannya telah turun drastis sebanyak 323 kilogram dalam tiga bulan . Sekarang berat badannya tinggal 176,6 kilogram .\n",
      "\n",
      "Input : Menteri Pertahanan Ryamizard Ryacudu menyambut baik usulan pembelian drone dari China untuk dikembangkan di Indonesia . Pesawat tanpa awak itu rencananya digunakan untuk misi pertahanan , yaitu mengawasi daerah perbatasan . \" Kita atau orang China , orang manapun , beli pasti dia bedah itu , pelajari . Kita juga beli sedikit satu atau dua , kemudian kita pelajari untuk menambah kecanggihan itu . Semuanya begitu , \" ujar Ryamizard di Bogor , Kamis ( 27 / 7 ) . Ia mengungkapkan penelitian dan riset untuk alutsista itu memang memakan anggaran yang cukup mahal . Namun , tindakan itu dilakukan untuk memodernkan alat utama sistem pertahanan Indonesia . Apalagi , kata Ryamizard , sumber daya manusia Indonesia sudah cukup mumpuni untuk mengembangkan drone . \" Memang untuk penelitian percobaan itu mahal . Kalau kita mau maju ya mahal . Tapi yang utama itu ini , jadi untuk perbatasan sudah cukup , kemudian di Manado dipasang bisa memantau kegiatan teror itu di situ juga , \" ungkapnya . Sebelumnya , Kepala Badan Sarana Pertahanan Kemhan , Laksamana Muda Leonardi , mengatakan drone yang bakal dibeli dari China akan menyesuaikan kebutuhan dari TNI AU yaitu Medium Altitude Long Endurance ( MALE ) . Saat ini pengadaan drone tersebut masih terus berjalan setelah pihak pemerintah China memperbolehkan Indonesia memiliki drone dengan teknologi tersebut . Laporan reporter kumparan Ferio Pristiawan\n",
      "Generated : at.. di.. yang yang,..., .. . ang.,. dan.. dan,, yang,at. ,.at. yang dan,., yang.. ber dan. dan .,at yang. diat., dan.,201,. dan. )..ati.. ) dan.201., ).,,. ) ). yang. danai..ah.. meng. ), dan, dan , ,, danai, ),.am.. -. danan..ang. dan Indonesia yangang..kan.. darii, yangan.an.ung dan. k\n",
      "Reference : Menteri Pertahanan Ryamizard Ryacudu menyambut baik usulan pembelian drone dari China untuk dikembangkan di Indonesia . Pesawat tanpa awak itu rencananya digunakan untuk misi pertahanan , yaitu mengawasi daerah perbatasan . \" Kita atau orang China , orang manapun , beli pasti dia bedah itu , pelajari . Kita juga beli sedikit satu atau dua , kemudian kita pelajari untuk menambah kecanggihan itu . Semuanya begitu , \" ujar Ryamizard di Bogor , Kamis ( 27 / 7 ) .\n",
      "\n",
      "Input : Jakarta , CNN Indonesia - - Meski sudah hampir 12 tahun berlalu , film Mean Girls merupakan salah satu film remaja sepanjang masa yang sulit untuk dilupakan . Tak heran kemudian , rumah produksi film yang dibintangi Lindsay Lohan , Rachel McAdams dan Amanda Seyfried ini kemudian memutuskan akan mengadaptasinya untuk dibuat dalam versi musikal . Konfirmasi akan kepastian adaptasi dari film yang naskah skenarionya ditulis Tina Fey dan disutradara Mark Waters ini diumumkan lewat akun resmi Twitter dan Facebook MeanGirlsDC . Dijadwalkan pementasan musikal dari adaptasi naskah   itu akan berlangsung September , tahun depan di Washington DC . Kabar adaptasi ke musikal ini , seperti dikutip dari NME ,   muncul pada Senin ( 3 / 10 ) , yang juga ditandai sebagai Mean Girls Day oleh para penggemarnya . Sebelumnya , keinginan untuk mengadaptasi Mean Girls ke musikal sudah muncul pada Maret lalu . Fey pada Metro mengatakan , \" Saya , suami saya , komposer Jeff Richmond , dan penulis lirik Nell Benjamin , akan bekerja sama untuk adaptasi musikal ini . \" Nell Benjamin sebelumnya juga pernah membuat musikal Legally Blonde . Kepastian nama tempat dan tanggal pementasan belum diinformasikan , akan tetapi pihak Mean Girls memastikan akan mengumumkannya lewat akun media sosial mereka dalam waktu dekat . Mean Girls Day Para penggemar film Mean Girls menetapkan 3 Oktober sebagai Mean Girls Day . Ini mengacu pada salah satu dialog yang disampaikan tokoh   utamanya   Cady Heron ( yang diperankan Lindsay Lohan ) , ketika ditanyai laki-laki yang ia sukai Aaron Samuels ( Jonathan Bennett ) akan waktu , yang kemudian ia jawab , \" Ini 3 Oktober \" . Kutipan tersebut menjadi salah satu adegan berkesan sepanjang film Mean Girls , yang kemudian dinobatkan para pencinta film sebagai Mean Girls Day . Lohan , pada Senin ( 3 / 10 ) juga turut merayakannya dengan membagi postingan cuplikan percakapannya , dan poster Mean Girls bertuliskan \" It 's October 3rd #NationalMeanGirlsDay \" . Ungkapan itu ia sertai hashtag #whatdayisit , meski di saat yang sama ia sedang dirawat di rumah sakit   karena insiden luka di bagian jari akibat jangkal kapal saat ia berliburan di Turki . ( rsa )\n",
      "Generated : ...,,.,..201. ,,, ., .. dan201..at.. di.,kan, dan.,ang dan di .at ) . dan.. )..a dan. dan . ),. di dan. diat. dan ). .201201. di ).201at. -..u.. dan. ) ).,i.. k,. )u.u . k..ang ). k di..an..ah.. p., ber dan.201 ). ) ang.. yang. 201.an,.ang , dani\n",
      "Reference : Rumah produksi film yang dibintangi Lindsay Lohan , Rachel McAdams dan Amanda Seyfried ini kemudian memutuskan akan mengadaptasinya untuk dibuat dalam versi musikal . Meski sudah hampir 12 tahun berlalu , film Mean Girls   merupakan salah satu film remaja sepanjang masa yang sulit untuk dilupakan . Dijadwalkan pementasan musikal dari adaptasi naskah   itu akan berlangsung September , tahun depan di Washington DC .\n",
      "\n",
      "Input : Usai melaksanakan ibadah haji , Eggi Sudjana akhirnya mendatangi kantor Bareskrim Polri , Jakarta , Senin ( 18 / 9 ) , untuk memberikan klarifikasi terkait pencatutan namanya di struktur organisasi Saracen . Eggi juga menyebutkan , ia sama sekali tidak mengenal atau terlibat dalam sindikat penyebar berita palsu tersebut . \" Saya nyatakan dengan jelas , pakai bahasa Islam lebih meyakinkan , dengan sumpah demi Allah masih haji nih , Insyaalah masih bersih , saya tidak tahu menahu tentang Saracen apalagi terlibat , \" ungkap Eggi yang mengaku heran saat mendapatkan panggilan dari kepolisian . Eggi menyebut tersangka Saracen , Jasriadi , bahkan sudah secara terbuka menyatakan bahwa nama Eggi dicomot secara asal dan masih dalam tahap wacana saja . Sehingga , menurut Eggi , secara ilmu hukum tuduhan terhadap dirinya akan secara otomatis gugur . \" Nanti kan poin ini itu harusnya clear buat saya . Tidak ada tuduhan apapun , gugur kepada saya , \" tambahnya . Terkait kasus tersebut , Eggi mengaku tidak akan datang jika kembali dipanggil menjadi saksi . Menurutnya , ia tidak bisa memenuhi panggilan sebagai saksi karena tidak memiliki hubungan dengan Saracen . \" Tapi kalau diundang untuk klarifikasi , baru saya mau datang . Tapi kalau panggilan sebagai saksi apalagi tersangka tiba-tiba ya , itu tidak benar . Tapi kalau panggilan diundang menjelaskan ya barulah saya pertimbangkan apa perlu apa enggak . Karena saya sendiri sudah datang ke sini , sudah berani klarifikasi sendiri kan , \" tambahnya . Sebelumnya , nama Eggi Sudjana disebut masuk dalam struktur kepengurusan Saracen bersama dengan Mayjen Ampi Tanudjiwa . Dalam struktur tersebut , Eggi ditulis sebagai anggota dewan penasehat , sementara Mayjen Ampi sebagai ketua dewan penasihat .\n",
      "Generated : .,, dan. ,. yang. dan dan., )..,... yang,. dan.. dan ). danan, dan .. dengan, dan di.. ., ). di. di. dan,., di. di ).,an . ). i..201.. )an.. dian., (..ang.,ung. 201., dan,,.angkan. diang..i.an.kan..ung..nya..el. dan untuk,. ) dan. diat.. k di.,at,.ah.. ber yang,, yang\n",
      "Reference : Eggi Sudjana akhirnya mendatangi kantor Bareskrim Polri , Jakarta , Senin ( 18 / 9 ) , untuk memberikan klarifikasi terkait pencatutan namanya di struktur organisasi Saracen . Eggi juga menyebutkan , ia sama sekali tidak mengenal atau terlibat dalam sindikat penyebar berita palsu tersebut . Eggi mengaku tidak akan datang jika kembali dipanggil menjadi saksi . Menurutnya , ia tidak bisa memenuhi panggilan sebagai saksi karena tidak memiliki hubungan dengan Saracen .\n",
      "\n",
      "Input : Banyak cara untuk memberikan pengajaran kepada anak , termasuk melalui cara yang atraktif dan kreatif . Seperti yang coba diusung dalam game permainan Kartu Muslim . Menggunakan basis teknologi Augmented Reality ( AR ) , permainan kartu tersebut memberikan pengajaran agama kepada anak-anak . Penggunaannya cukup sederhana , kartu berhologram khusus dipasarkan dalam satu set produk , misalnya dalam seri belajar Wudhu . Untuk menyajikan konten unik di dalamnya , kartu tersebut dapat disorot menggunakan kamera dan aplikasi khusus di ponsel Android . Pada awalnya Kartu Muslim adalah sebuah karya kolaborasi antara Touchten dan Ustad Wijayanto . Saat ini Kartu Pintar masih terus dilanjutkan pengembangan bisnisnya , salah satunya oleh Nilwafa Praduta , Co - Founder Kartu Muslim sekaligus Art Director di Touchten Games . Beberapa rekannya di Touchten juga masih tetap membantu pengembangannya . “ Ide awalnya dari kebutuhan pribadi saya untuk mengajarkan anak tentang agama Islam , sebagai orang tua baru saya berpikir bagaimana bisa menyajikannya agar anak cepat tangkap dan mengerti tanpa ada pemaksaan , karena jika anak dipaksa belajar takut dia akan malah menjauh . Alhamdulillah Touchten sangat mendukung ide itu dan sebagian talent yang mengerjakan kartu muslim adalah dari dalam Touchten sendiri , ” ujar Nilwafa . Kartu Muslim dikembangkan dalam tiga bagian utama , yakni konten , fisik kartu , dan aplikasi . Untuk pengerjaan konten , tim pengembang masih bekerja sama dengan Ustad Wijayanto , dan direpresentasikan dalam animasi dan kartu oleh artist dan graphic desainer Kartu Muslim . Untuk aplikasinya sendiri dibuat oleh pengembang menggunakan teknologi AR dan program Unity yang biasa dipakai untuk pembuatan mobile games pada umumnya . “ Kami rasa aplikasi AR di masa depan akan terintegrasi dengan baik dan natural pada kehidupan sehari-hari , AR dapat membantu memberikan added value atau informasi tambahan pada masyarakat dan akan semakin banyak produk yang memakainya , ” lanjut Nilwafa . Terkait pengembangan produk Kartu Muslim , Nilwafa turut menerangkan ke depannya akan ada terus dikembangkan tema lain . Pihaknya juga mengaku tidak menutup diri akan inovasi selain bentuk kartu , karena akan selalu menyesuaikan dengan kebutuhan masyarakat , terutama orang tua yang ingin mengajarkan anaknya . “ Kami sangat gembira atas sambutan masyarakat Indonesia yang sangat baik atas produk kami selama ini , dan kami ingin terus menyajikan produk yang lebih baik dan lebih menarik lagi , kami berharap Kartu Muslim dapat terus diterima dengan baik dan dapat menjadi bentuk kontribusi dan media dakwah kami terhadap generasi penerus bangsa ini , ” pungkas Nilwafa . DailySocial.id adalah portal berita startup dan inovasi teknologi . Kamu bisa menjadi member komunitas startup dan inovasi DailySocial.id , mengunduh laporan riset dan statistik seputar teknologi secara cuma-cuma , dan mengikuti berita startup Indonesia dan gadget terbaru .\n",
      "Generated : ).. dan.. yang, di di...,201. )an,an.,,,an .,.. .. di., yang,,. )., k. ber..at..ah.. ke. di . dan,,i..ung..kan..201 ). di,.,ung. dan dan,. ,.an di. di dan., yang..an,.a.. ),. k.. ( dan.an..i. ) ). danung. di -.. p..a dan. danan.ahan.an dan.201..\n",
      "Reference : Game permainan Kartu Muslim . Menggunakan basis teknologi Augmented Reality ( AR ) , permainan kartu tersebut memberikan pengajaran agama kepada anak-anak . Penggunaannya cukup sederhana , kartu berhologram khusus dipasarkan dalam satu set produk , misalnya dalam seri belajar Wudhu . Untuk menyajikan konten unik di dalamnya , kartu tersebut dapat disorot menggunakan kamera dan aplikasi khusus di ponsel Android .\n",
      "\n"
     ]
    }
   ],
   "source": [
    "for i in range(5):\n",
    "  print(f\"Input : {test_dataset['document'][i]}\")\n",
    "  print(f\"Generated : {generated_summaries_fewshot[i]}\")\n",
    "  print(f\"Reference : {test_dataset['summary'][i]}\")\n",
    "  print()"
   ]
  },
  {
   "cell_type": "code",
   "execution_count": 24,
   "id": "bf339275",
   "metadata": {
    "execution": {
     "iopub.execute_input": "2024-12-23T09:32:13.233008Z",
     "iopub.status.busy": "2024-12-23T09:32:13.232692Z",
     "iopub.status.idle": "2024-12-23T09:32:13.450533Z",
     "shell.execute_reply": "2024-12-23T09:32:13.449489Z"
    },
    "papermill": {
     "duration": 0.293226,
     "end_time": "2024-12-23T09:32:13.451753",
     "exception": false,
     "start_time": "2024-12-23T09:32:13.158527",
     "status": "completed"
    },
    "tags": []
   },
   "outputs": [
    {
     "name": "stdout",
     "output_type": "stream",
     "text": [
      "ROUGE Scores: {'rouge1': 0.07241093505026679, 'rouge2': 0.00038867924528301884, 'rougeL': 0.06276834970291238}\n"
     ]
    }
   ],
   "source": [
    "rouge_scores_fewshot = compute_rouge(test_dataset['summary'], generated_summaries_fewshot)\n",
    "print(\"ROUGE Scores:\", rouge_scores_fewshot)"
   ]
  },
  {
   "cell_type": "code",
   "execution_count": 25,
   "id": "a2208b26",
   "metadata": {
    "execution": {
     "iopub.execute_input": "2024-12-23T09:32:13.604912Z",
     "iopub.status.busy": "2024-12-23T09:32:13.604665Z",
     "iopub.status.idle": "2024-12-23T09:32:13.608384Z",
     "shell.execute_reply": "2024-12-23T09:32:13.607763Z"
    },
    "papermill": {
     "duration": 0.080782,
     "end_time": "2024-12-23T09:32:13.609744",
     "exception": false,
     "start_time": "2024-12-23T09:32:13.528962",
     "status": "completed"
    },
    "tags": []
   },
   "outputs": [],
   "source": [
    "with open('./summaries_and_scores_fewshot.pkl', 'wb') as f:\n",
    "    pickle.dump({\n",
    "        'generated_summaries': generated_summaries_fewshot,\n",
    "        'rouge_scores': rouge_scores_fewshot\n",
    "    }, f)"
   ]
  }
 ],
 "metadata": {
  "kaggle": {
   "accelerator": "nvidiaTeslaT4",
   "dataSources": [
    {
     "datasetId": 3003478,
     "sourceId": 5167973,
     "sourceType": "datasetVersion"
    },
    {
     "datasetId": 6345217,
     "sourceId": 10273238,
     "sourceType": "datasetVersion"
    }
   ],
   "dockerImageVersionId": 30823,
   "isGpuEnabled": true,
   "isInternetEnabled": true,
   "language": "python",
   "sourceType": "notebook"
  },
  "kernelspec": {
   "display_name": "Python 3",
   "language": "python",
   "name": "python3"
  },
  "language_info": {
   "codemirror_mode": {
    "name": "ipython",
    "version": 3
   },
   "file_extension": ".py",
   "mimetype": "text/x-python",
   "name": "python",
   "nbconvert_exporter": "python",
   "pygments_lexer": "ipython3",
   "version": "3.10.12"
  },
  "papermill": {
   "default_parameters": {},
   "duration": 1274.323345,
   "end_time": "2024-12-23T09:32:17.428476",
   "environment_variables": {},
   "exception": null,
   "input_path": "__notebook__.ipynb",
   "output_path": "__notebook__.ipynb",
   "parameters": {},
   "start_time": "2024-12-23T09:11:03.105131",
   "version": "2.6.0"
  },
  "widgets": {
   "application/vnd.jupyter.widget-state+json": {
    "state": {
     "0e53d5ef708c49f7885ff119e78b140c": {
      "model_module": "@jupyter-widgets/controls",
      "model_module_version": "2.0.0",
      "model_name": "HTMLStyleModel",
      "state": {
       "_model_module": "@jupyter-widgets/controls",
       "_model_module_version": "2.0.0",
       "_model_name": "HTMLStyleModel",
       "_view_count": null,
       "_view_module": "@jupyter-widgets/base",
       "_view_module_version": "2.0.0",
       "_view_name": "StyleView",
       "background": null,
       "description_width": "",
       "font_size": null,
       "text_color": null
      }
     },
     "11ba6af3562b47b9b23ffa2e832c20b2": {
      "model_module": "@jupyter-widgets/controls",
      "model_module_version": "2.0.0",
      "model_name": "HTMLStyleModel",
      "state": {
       "_model_module": "@jupyter-widgets/controls",
       "_model_module_version": "2.0.0",
       "_model_name": "HTMLStyleModel",
       "_view_count": null,
       "_view_module": "@jupyter-widgets/base",
       "_view_module_version": "2.0.0",
       "_view_name": "StyleView",
       "background": null,
       "description_width": "",
       "font_size": null,
       "text_color": null
      }
     },
     "25e242b29e584f7eb5415f77dd90143d": {
      "model_module": "@jupyter-widgets/controls",
      "model_module_version": "2.0.0",
      "model_name": "FloatProgressModel",
      "state": {
       "_dom_classes": [],
       "_model_module": "@jupyter-widgets/controls",
       "_model_module_version": "2.0.0",
       "_model_name": "FloatProgressModel",
       "_view_count": null,
       "_view_module": "@jupyter-widgets/controls",
       "_view_module_version": "2.0.0",
       "_view_name": "ProgressView",
       "bar_style": "danger",
       "description": "",
       "description_allow_html": false,
       "layout": "IPY_MODEL_4502e19390cd4e7aa84dd91694274f14",
       "max": 1027676732.0,
       "min": 0.0,
       "orientation": "horizontal",
       "style": "IPY_MODEL_532f99f537874288941ebc11fd544899",
       "tabbable": null,
       "tooltip": null,
       "value": 1027676634.0
      }
     },
     "4502e19390cd4e7aa84dd91694274f14": {
      "model_module": "@jupyter-widgets/base",
      "model_module_version": "2.0.0",
      "model_name": "LayoutModel",
      "state": {
       "_model_module": "@jupyter-widgets/base",
       "_model_module_version": "2.0.0",
       "_model_name": "LayoutModel",
       "_view_count": null,
       "_view_module": "@jupyter-widgets/base",
       "_view_module_version": "2.0.0",
       "_view_name": "LayoutView",
       "align_content": null,
       "align_items": null,
       "align_self": null,
       "border_bottom": null,
       "border_left": null,
       "border_right": null,
       "border_top": null,
       "bottom": null,
       "display": null,
       "flex": null,
       "flex_flow": null,
       "grid_area": null,
       "grid_auto_columns": null,
       "grid_auto_flow": null,
       "grid_auto_rows": null,
       "grid_column": null,
       "grid_gap": null,
       "grid_row": null,
       "grid_template_areas": null,
       "grid_template_columns": null,
       "grid_template_rows": null,
       "height": null,
       "justify_content": null,
       "justify_items": null,
       "left": null,
       "margin": null,
       "max_height": null,
       "max_width": null,
       "min_height": null,
       "min_width": null,
       "object_fit": null,
       "object_position": null,
       "order": null,
       "overflow": null,
       "padding": null,
       "right": null,
       "top": null,
       "visibility": null,
       "width": null
      }
     },
     "51e0636ee99e49d8ad8135264f5721b2": {
      "model_module": "@jupyter-widgets/controls",
      "model_module_version": "2.0.0",
      "model_name": "ProgressStyleModel",
      "state": {
       "_model_module": "@jupyter-widgets/controls",
       "_model_module_version": "2.0.0",
       "_model_name": "ProgressStyleModel",
       "_view_count": null,
       "_view_module": "@jupyter-widgets/base",
       "_view_module_version": "2.0.0",
       "_view_name": "StyleView",
       "bar_color": null,
       "description_width": ""
      }
     },
     "532f99f537874288941ebc11fd544899": {
      "model_module": "@jupyter-widgets/controls",
      "model_module_version": "2.0.0",
      "model_name": "ProgressStyleModel",
      "state": {
       "_model_module": "@jupyter-widgets/controls",
       "_model_module_version": "2.0.0",
       "_model_name": "ProgressStyleModel",
       "_view_count": null,
       "_view_module": "@jupyter-widgets/base",
       "_view_module_version": "2.0.0",
       "_view_name": "StyleView",
       "bar_color": null,
       "description_width": ""
      }
     },
     "59446c1baeb34af992c11eed0124fc0a": {
      "model_module": "@jupyter-widgets/controls",
      "model_module_version": "2.0.0",
      "model_name": "HTMLModel",
      "state": {
       "_dom_classes": [],
       "_model_module": "@jupyter-widgets/controls",
       "_model_module_version": "2.0.0",
       "_model_name": "HTMLModel",
       "_view_count": null,
       "_view_module": "@jupyter-widgets/controls",
       "_view_module_version": "2.0.0",
       "_view_name": "HTMLView",
       "description": "",
       "description_allow_html": false,
       "layout": "IPY_MODEL_9b019ee851f54127a752c60f0b833637",
       "placeholder": "​",
       "style": "IPY_MODEL_5ca87fc78545431a9c6a526d33e5564a",
       "tabbable": null,
       "tooltip": null,
       "value": " 1.03G/1.03G [00:03&lt;00:00, 1.21GB/s]"
      }
     },
     "5ca87fc78545431a9c6a526d33e5564a": {
      "model_module": "@jupyter-widgets/controls",
      "model_module_version": "2.0.0",
      "model_name": "HTMLStyleModel",
      "state": {
       "_model_module": "@jupyter-widgets/controls",
       "_model_module_version": "2.0.0",
       "_model_name": "HTMLStyleModel",
       "_view_count": null,
       "_view_module": "@jupyter-widgets/base",
       "_view_module_version": "2.0.0",
       "_view_name": "StyleView",
       "background": null,
       "description_width": "",
       "font_size": null,
       "text_color": null
      }
     },
     "65ac91a363d340e99db9764401fea264": {
      "model_module": "@jupyter-widgets/controls",
      "model_module_version": "2.0.0",
      "model_name": "HTMLModel",
      "state": {
       "_dom_classes": [],
       "_model_module": "@jupyter-widgets/controls",
       "_model_module_version": "2.0.0",
       "_model_name": "HTMLModel",
       "_view_count": null,
       "_view_module": "@jupyter-widgets/controls",
       "_view_module_version": "2.0.0",
       "_view_name": "HTMLView",
       "description": "",
       "description_allow_html": false,
       "layout": "IPY_MODEL_6c8a5ddf49c243beaa37f410998c4f3e",
       "placeholder": "​",
       "style": "IPY_MODEL_0e53d5ef708c49f7885ff119e78b140c",
       "tabbable": null,
       "tooltip": null,
       "value": " 121/121 [00:00&lt;00:00, 11.6kB/s]"
      }
     },
     "6c8a5ddf49c243beaa37f410998c4f3e": {
      "model_module": "@jupyter-widgets/base",
      "model_module_version": "2.0.0",
      "model_name": "LayoutModel",
      "state": {
       "_model_module": "@jupyter-widgets/base",
       "_model_module_version": "2.0.0",
       "_model_name": "LayoutModel",
       "_view_count": null,
       "_view_module": "@jupyter-widgets/base",
       "_view_module_version": "2.0.0",
       "_view_name": "LayoutView",
       "align_content": null,
       "align_items": null,
       "align_self": null,
       "border_bottom": null,
       "border_left": null,
       "border_right": null,
       "border_top": null,
       "bottom": null,
       "display": null,
       "flex": null,
       "flex_flow": null,
       "grid_area": null,
       "grid_auto_columns": null,
       "grid_auto_flow": null,
       "grid_auto_rows": null,
       "grid_column": null,
       "grid_gap": null,
       "grid_row": null,
       "grid_template_areas": null,
       "grid_template_columns": null,
       "grid_template_rows": null,
       "height": null,
       "justify_content": null,
       "justify_items": null,
       "left": null,
       "margin": null,
       "max_height": null,
       "max_width": null,
       "min_height": null,
       "min_width": null,
       "object_fit": null,
       "object_position": null,
       "order": null,
       "overflow": null,
       "padding": null,
       "right": null,
       "top": null,
       "visibility": null,
       "width": null
      }
     },
     "7eeaa2af765046628cb8ab6672a3b202": {
      "model_module": "@jupyter-widgets/base",
      "model_module_version": "2.0.0",
      "model_name": "LayoutModel",
      "state": {
       "_model_module": "@jupyter-widgets/base",
       "_model_module_version": "2.0.0",
       "_model_name": "LayoutModel",
       "_view_count": null,
       "_view_module": "@jupyter-widgets/base",
       "_view_module_version": "2.0.0",
       "_view_name": "LayoutView",
       "align_content": null,
       "align_items": null,
       "align_self": null,
       "border_bottom": null,
       "border_left": null,
       "border_right": null,
       "border_top": null,
       "bottom": null,
       "display": null,
       "flex": null,
       "flex_flow": null,
       "grid_area": null,
       "grid_auto_columns": null,
       "grid_auto_flow": null,
       "grid_auto_rows": null,
       "grid_column": null,
       "grid_gap": null,
       "grid_row": null,
       "grid_template_areas": null,
       "grid_template_columns": null,
       "grid_template_rows": null,
       "height": null,
       "justify_content": null,
       "justify_items": null,
       "left": null,
       "margin": null,
       "max_height": null,
       "max_width": null,
       "min_height": null,
       "min_width": null,
       "object_fit": null,
       "object_position": null,
       "order": null,
       "overflow": null,
       "padding": null,
       "right": null,
       "top": null,
       "visibility": null,
       "width": null
      }
     },
     "94a2cde64a7947caaafcca5a68db8f66": {
      "model_module": "@jupyter-widgets/base",
      "model_module_version": "2.0.0",
      "model_name": "LayoutModel",
      "state": {
       "_model_module": "@jupyter-widgets/base",
       "_model_module_version": "2.0.0",
       "_model_name": "LayoutModel",
       "_view_count": null,
       "_view_module": "@jupyter-widgets/base",
       "_view_module_version": "2.0.0",
       "_view_name": "LayoutView",
       "align_content": null,
       "align_items": null,
       "align_self": null,
       "border_bottom": null,
       "border_left": null,
       "border_right": null,
       "border_top": null,
       "bottom": null,
       "display": null,
       "flex": null,
       "flex_flow": null,
       "grid_area": null,
       "grid_auto_columns": null,
       "grid_auto_flow": null,
       "grid_auto_rows": null,
       "grid_column": null,
       "grid_gap": null,
       "grid_row": null,
       "grid_template_areas": null,
       "grid_template_columns": null,
       "grid_template_rows": null,
       "height": null,
       "justify_content": null,
       "justify_items": null,
       "left": null,
       "margin": null,
       "max_height": null,
       "max_width": null,
       "min_height": null,
       "min_width": null,
       "object_fit": null,
       "object_position": null,
       "order": null,
       "overflow": null,
       "padding": null,
       "right": null,
       "top": null,
       "visibility": null,
       "width": null
      }
     },
     "9b019ee851f54127a752c60f0b833637": {
      "model_module": "@jupyter-widgets/base",
      "model_module_version": "2.0.0",
      "model_name": "LayoutModel",
      "state": {
       "_model_module": "@jupyter-widgets/base",
       "_model_module_version": "2.0.0",
       "_model_name": "LayoutModel",
       "_view_count": null,
       "_view_module": "@jupyter-widgets/base",
       "_view_module_version": "2.0.0",
       "_view_name": "LayoutView",
       "align_content": null,
       "align_items": null,
       "align_self": null,
       "border_bottom": null,
       "border_left": null,
       "border_right": null,
       "border_top": null,
       "bottom": null,
       "display": null,
       "flex": null,
       "flex_flow": null,
       "grid_area": null,
       "grid_auto_columns": null,
       "grid_auto_flow": null,
       "grid_auto_rows": null,
       "grid_column": null,
       "grid_gap": null,
       "grid_row": null,
       "grid_template_areas": null,
       "grid_template_columns": null,
       "grid_template_rows": null,
       "height": null,
       "justify_content": null,
       "justify_items": null,
       "left": null,
       "margin": null,
       "max_height": null,
       "max_width": null,
       "min_height": null,
       "min_width": null,
       "object_fit": null,
       "object_position": null,
       "order": null,
       "overflow": null,
       "padding": null,
       "right": null,
       "top": null,
       "visibility": null,
       "width": null
      }
     },
     "b59ab6de0d9040e7be019b4913307439": {
      "model_module": "@jupyter-widgets/controls",
      "model_module_version": "2.0.0",
      "model_name": "HTMLModel",
      "state": {
       "_dom_classes": [],
       "_model_module": "@jupyter-widgets/controls",
       "_model_module_version": "2.0.0",
       "_model_name": "HTMLModel",
       "_view_count": null,
       "_view_module": "@jupyter-widgets/controls",
       "_view_module_version": "2.0.0",
       "_view_name": "HTMLView",
       "description": "",
       "description_allow_html": false,
       "layout": "IPY_MODEL_e1fd2823f09e4be391a8f985ce8ecad2",
       "placeholder": "​",
       "style": "IPY_MODEL_c4a58b3d2e62496db41488c83d6004b1",
       "tabbable": null,
       "tooltip": null,
       "value": "model.safetensors: 100%"
      }
     },
     "b7394f0276d84b9e822acb3c443b6354": {
      "model_module": "@jupyter-widgets/base",
      "model_module_version": "2.0.0",
      "model_name": "LayoutModel",
      "state": {
       "_model_module": "@jupyter-widgets/base",
       "_model_module_version": "2.0.0",
       "_model_name": "LayoutModel",
       "_view_count": null,
       "_view_module": "@jupyter-widgets/base",
       "_view_module_version": "2.0.0",
       "_view_name": "LayoutView",
       "align_content": null,
       "align_items": null,
       "align_self": null,
       "border_bottom": null,
       "border_left": null,
       "border_right": null,
       "border_top": null,
       "bottom": null,
       "display": null,
       "flex": null,
       "flex_flow": null,
       "grid_area": null,
       "grid_auto_columns": null,
       "grid_auto_flow": null,
       "grid_auto_rows": null,
       "grid_column": null,
       "grid_gap": null,
       "grid_row": null,
       "grid_template_areas": null,
       "grid_template_columns": null,
       "grid_template_rows": null,
       "height": null,
       "justify_content": null,
       "justify_items": null,
       "left": null,
       "margin": null,
       "max_height": null,
       "max_width": null,
       "min_height": null,
       "min_width": null,
       "object_fit": null,
       "object_position": null,
       "order": null,
       "overflow": null,
       "padding": null,
       "right": null,
       "top": null,
       "visibility": null,
       "width": null
      }
     },
     "c4a58b3d2e62496db41488c83d6004b1": {
      "model_module": "@jupyter-widgets/controls",
      "model_module_version": "2.0.0",
      "model_name": "HTMLStyleModel",
      "state": {
       "_model_module": "@jupyter-widgets/controls",
       "_model_module_version": "2.0.0",
       "_model_name": "HTMLStyleModel",
       "_view_count": null,
       "_view_module": "@jupyter-widgets/base",
       "_view_module_version": "2.0.0",
       "_view_name": "StyleView",
       "background": null,
       "description_width": "",
       "font_size": null,
       "text_color": null
      }
     },
     "e0166e70d33c413993d15fbc01481a92": {
      "model_module": "@jupyter-widgets/controls",
      "model_module_version": "2.0.0",
      "model_name": "HBoxModel",
      "state": {
       "_dom_classes": [],
       "_model_module": "@jupyter-widgets/controls",
       "_model_module_version": "2.0.0",
       "_model_name": "HBoxModel",
       "_view_count": null,
       "_view_module": "@jupyter-widgets/controls",
       "_view_module_version": "2.0.0",
       "_view_name": "HBoxView",
       "box_style": "",
       "children": [
        "IPY_MODEL_b59ab6de0d9040e7be019b4913307439",
        "IPY_MODEL_25e242b29e584f7eb5415f77dd90143d",
        "IPY_MODEL_59446c1baeb34af992c11eed0124fc0a"
       ],
       "layout": "IPY_MODEL_94a2cde64a7947caaafcca5a68db8f66",
       "tabbable": null,
       "tooltip": null
      }
     },
     "e1fd2823f09e4be391a8f985ce8ecad2": {
      "model_module": "@jupyter-widgets/base",
      "model_module_version": "2.0.0",
      "model_name": "LayoutModel",
      "state": {
       "_model_module": "@jupyter-widgets/base",
       "_model_module_version": "2.0.0",
       "_model_name": "LayoutModel",
       "_view_count": null,
       "_view_module": "@jupyter-widgets/base",
       "_view_module_version": "2.0.0",
       "_view_name": "LayoutView",
       "align_content": null,
       "align_items": null,
       "align_self": null,
       "border_bottom": null,
       "border_left": null,
       "border_right": null,
       "border_top": null,
       "bottom": null,
       "display": null,
       "flex": null,
       "flex_flow": null,
       "grid_area": null,
       "grid_auto_columns": null,
       "grid_auto_flow": null,
       "grid_auto_rows": null,
       "grid_column": null,
       "grid_gap": null,
       "grid_row": null,
       "grid_template_areas": null,
       "grid_template_columns": null,
       "grid_template_rows": null,
       "height": null,
       "justify_content": null,
       "justify_items": null,
       "left": null,
       "margin": null,
       "max_height": null,
       "max_width": null,
       "min_height": null,
       "min_width": null,
       "object_fit": null,
       "object_position": null,
       "order": null,
       "overflow": null,
       "padding": null,
       "right": null,
       "top": null,
       "visibility": null,
       "width": null
      }
     },
     "e42705bd0d3845c9abf72ed664e8a1d6": {
      "model_module": "@jupyter-widgets/controls",
      "model_module_version": "2.0.0",
      "model_name": "HBoxModel",
      "state": {
       "_dom_classes": [],
       "_model_module": "@jupyter-widgets/controls",
       "_model_module_version": "2.0.0",
       "_model_name": "HBoxModel",
       "_view_count": null,
       "_view_module": "@jupyter-widgets/controls",
       "_view_module_version": "2.0.0",
       "_view_name": "HBoxView",
       "box_style": "",
       "children": [
        "IPY_MODEL_e6c940b170074eb4b99115ad828b5f5e",
        "IPY_MODEL_f7a52f2c83c848bf80713704af79cfe9",
        "IPY_MODEL_65ac91a363d340e99db9764401fea264"
       ],
       "layout": "IPY_MODEL_7eeaa2af765046628cb8ab6672a3b202",
       "tabbable": null,
       "tooltip": null
      }
     },
     "e6c940b170074eb4b99115ad828b5f5e": {
      "model_module": "@jupyter-widgets/controls",
      "model_module_version": "2.0.0",
      "model_name": "HTMLModel",
      "state": {
       "_dom_classes": [],
       "_model_module": "@jupyter-widgets/controls",
       "_model_module_version": "2.0.0",
       "_model_name": "HTMLModel",
       "_view_count": null,
       "_view_module": "@jupyter-widgets/controls",
       "_view_module_version": "2.0.0",
       "_view_name": "HTMLView",
       "description": "",
       "description_allow_html": false,
       "layout": "IPY_MODEL_e7bb50d8199b48dca32e98d43ebe9dc6",
       "placeholder": "​",
       "style": "IPY_MODEL_11ba6af3562b47b9b23ffa2e832c20b2",
       "tabbable": null,
       "tooltip": null,
       "value": "generation_config.json: 100%"
      }
     },
     "e7bb50d8199b48dca32e98d43ebe9dc6": {
      "model_module": "@jupyter-widgets/base",
      "model_module_version": "2.0.0",
      "model_name": "LayoutModel",
      "state": {
       "_model_module": "@jupyter-widgets/base",
       "_model_module_version": "2.0.0",
       "_model_name": "LayoutModel",
       "_view_count": null,
       "_view_module": "@jupyter-widgets/base",
       "_view_module_version": "2.0.0",
       "_view_name": "LayoutView",
       "align_content": null,
       "align_items": null,
       "align_self": null,
       "border_bottom": null,
       "border_left": null,
       "border_right": null,
       "border_top": null,
       "bottom": null,
       "display": null,
       "flex": null,
       "flex_flow": null,
       "grid_area": null,
       "grid_auto_columns": null,
       "grid_auto_flow": null,
       "grid_auto_rows": null,
       "grid_column": null,
       "grid_gap": null,
       "grid_row": null,
       "grid_template_areas": null,
       "grid_template_columns": null,
       "grid_template_rows": null,
       "height": null,
       "justify_content": null,
       "justify_items": null,
       "left": null,
       "margin": null,
       "max_height": null,
       "max_width": null,
       "min_height": null,
       "min_width": null,
       "object_fit": null,
       "object_position": null,
       "order": null,
       "overflow": null,
       "padding": null,
       "right": null,
       "top": null,
       "visibility": null,
       "width": null
      }
     },
     "f7a52f2c83c848bf80713704af79cfe9": {
      "model_module": "@jupyter-widgets/controls",
      "model_module_version": "2.0.0",
      "model_name": "FloatProgressModel",
      "state": {
       "_dom_classes": [],
       "_model_module": "@jupyter-widgets/controls",
       "_model_module_version": "2.0.0",
       "_model_name": "FloatProgressModel",
       "_view_count": null,
       "_view_module": "@jupyter-widgets/controls",
       "_view_module_version": "2.0.0",
       "_view_name": "ProgressView",
       "bar_style": "success",
       "description": "",
       "description_allow_html": false,
       "layout": "IPY_MODEL_b7394f0276d84b9e822acb3c443b6354",
       "max": 121.0,
       "min": 0.0,
       "orientation": "horizontal",
       "style": "IPY_MODEL_51e0636ee99e49d8ad8135264f5721b2",
       "tabbable": null,
       "tooltip": null,
       "value": 121.0
      }
     }
    },
    "version_major": 2,
    "version_minor": 0
   }
  }
 },
 "nbformat": 4,
 "nbformat_minor": 5
}
