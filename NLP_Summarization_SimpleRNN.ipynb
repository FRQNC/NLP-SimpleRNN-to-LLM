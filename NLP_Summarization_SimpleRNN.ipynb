{
  "cells": [
    {
      "cell_type": "code",
      "execution_count": 1,
      "metadata": {
        "colab": {
          "base_uri": "https://localhost:8080/"
        },
        "id": "-8Ha-bPnBSoB",
        "outputId": "218bcb2c-bb7f-41e4-bf10-84f58f10e4c9"
      },
      "outputs": [
        {
          "output_type": "stream",
          "name": "stdout",
          "text": [
            "Collecting rouge_score\n",
            "  Downloading rouge_score-0.1.2.tar.gz (17 kB)\n",
            "  Preparing metadata (setup.py) ... \u001b[?25l\u001b[?25hdone\n",
            "Requirement already satisfied: absl-py in /usr/local/lib/python3.10/dist-packages (from rouge_score) (1.4.0)\n",
            "Requirement already satisfied: nltk in /usr/local/lib/python3.10/dist-packages (from rouge_score) (3.9.1)\n",
            "Requirement already satisfied: numpy in /usr/local/lib/python3.10/dist-packages (from rouge_score) (1.26.4)\n",
            "Requirement already satisfied: six>=1.14.0 in /usr/local/lib/python3.10/dist-packages (from rouge_score) (1.17.0)\n",
            "Requirement already satisfied: click in /usr/local/lib/python3.10/dist-packages (from nltk->rouge_score) (8.1.7)\n",
            "Requirement already satisfied: joblib in /usr/local/lib/python3.10/dist-packages (from nltk->rouge_score) (1.4.2)\n",
            "Requirement already satisfied: regex>=2021.8.3 in /usr/local/lib/python3.10/dist-packages (from nltk->rouge_score) (2024.11.6)\n",
            "Requirement already satisfied: tqdm in /usr/local/lib/python3.10/dist-packages (from nltk->rouge_score) (4.67.1)\n",
            "Building wheels for collected packages: rouge_score\n",
            "  Building wheel for rouge_score (setup.py) ... \u001b[?25l\u001b[?25hdone\n",
            "  Created wheel for rouge_score: filename=rouge_score-0.1.2-py3-none-any.whl size=24935 sha256=96358be372e1bb16b7624132e926b5718bc1ab8b2c9f7b65943e041f69eccb95\n",
            "  Stored in directory: /root/.cache/pip/wheels/5f/dd/89/461065a73be61a532ff8599a28e9beef17985c9e9c31e541b4\n",
            "Successfully built rouge_score\n",
            "Installing collected packages: rouge_score\n",
            "Successfully installed rouge_score-0.1.2\n"
          ]
        }
      ],
      "source": [
        "!pip install rouge_score"
      ]
    },
    {
      "cell_type": "code",
      "execution_count": 2,
      "metadata": {
        "colab": {
          "base_uri": "https://localhost:8080/"
        },
        "id": "magvWsHWizv2",
        "outputId": "2d9c9c09-1ee8-46b4-d161-259772bc1724"
      },
      "outputs": [
        {
          "output_type": "stream",
          "name": "stdout",
          "text": [
            "Mounted at /content/drive\n"
          ]
        }
      ],
      "source": [
        "# mount google drive to access/load the dataset\n",
        "from google.colab import drive\n",
        "drive.mount('/content/drive')"
      ]
    },
    {
      "cell_type": "code",
      "execution_count": 3,
      "metadata": {
        "id": "s3HFE56tnvU6"
      },
      "outputs": [],
      "source": [
        "import json\n",
        "import numpy as np\n",
        "import tensorflow as tf\n",
        "from tensorflow.keras.layers import SimpleRNN, Embedding, Dense, Input, Bidirectional, LSTM, LayerNormalization, Dropout\n",
        "from tensorflow.keras.models import Model\n",
        "from tensorflow.keras.optimizers import Adam\n",
        "from tensorflow.keras.preprocessing.text import Tokenizer\n",
        "from tensorflow.keras.preprocessing.sequence import pad_sequences\n",
        "from tensorflow.keras.saving import register_keras_serializable\n",
        "from tensorflow.keras.callbacks import ModelCheckpoint\n",
        "from sklearn.model_selection import train_test_split\n",
        "from rouge_score import rouge_scorer\n",
        "import matplotlib.pyplot as plt\n",
        "%matplotlib inline\n",
        "import pickle"
      ]
    },
    {
      "cell_type": "code",
      "execution_count": 4,
      "metadata": {
        "id": "4cjmN2ItnyKZ"
      },
      "outputs": [],
      "source": [
        "# Load the dataset\n",
        "def load_data(file_path):\n",
        "    articles = []\n",
        "    summaries = []\n",
        "    with open(file_path, 'r') as f:\n",
        "        for line in f:\n",
        "            data = json.loads(line)\n",
        "            # First join words in each sentence, then join sentences in each paragraph\n",
        "            article_text = ' '.join([' '.join(sentence) for paragraph in data['paragraphs'] for sentence in paragraph])\n",
        "            summary_text = ' '.join([' '.join(sentence) for sentence in data['summary']])\n",
        "\n",
        "            articles.append(article_text)\n",
        "            summaries.append(summary_text)\n",
        "    return articles, summaries\n",
        "\n",
        "\n",
        "# Paths to one of the dataset's JSONL files (adjust for different folds)\n",
        "train_file = '/content/drive/MyDrive/Dataset/indosum/train.01.jsonl'\n",
        "dev_file = '/content/drive/MyDrive/Dataset/indosum/dev.01.jsonl'\n",
        "test_file = '/content/drive/MyDrive/Dataset/indosum/test.01.jsonl'\n",
        "\n",
        "# Load data\n",
        "train_articles, train_summaries = load_data(train_file)\n",
        "dev_articles, dev_summaries = load_data(dev_file)\n",
        "test_articles, test_summaries = load_data(test_file)"
      ]
    },
    {
      "cell_type": "code",
      "execution_count": 5,
      "metadata": {
        "colab": {
          "base_uri": "https://localhost:8080/"
        },
        "id": "2wnrX6Qen5Is",
        "outputId": "617aac01-6715-4cc3-f544-296c6fa3f8b1"
      },
      "outputs": [
        {
          "output_type": "stream",
          "name": "stdout",
          "text": [
            "jumlah data : 14262\n",
            "contoh artikel : Jakarta , CNN Indonesia - - Dokter Ryan Thamrin , yang terkenal lewat acara Dokter Oz Indonesia , meninggal dunia pada Jumat ( 4 / 8 ) dini hari . Dokter Lula Kamal yang merupakan selebriti sekaligus rekan kerja Ryan menyebut kawannya itu sudah sakit sejak setahun yang lalu . Lula menuturkan , sakit itu membuat Ryan mesti vakum dari semua kegiatannya , termasuk menjadi pembawa acara Dokter Oz Indonesia . Kondisi itu membuat Ryan harus kembali ke kampung halamannya di Pekanbaru , Riau untuk menjalani istirahat . \" Setahu saya dia orangnya sehat , tapi tahun lalu saya dengar dia sakit . ( Karena ) sakitnya , ia langsung pulang ke Pekanbaru , jadi kami yang mau jenguk juga susah . Barangkali mau istirahat , ya betul juga , kalau di Jakarta susah isirahatnya , \" kata Lula kepada CNNIndonesia.com , Jumat ( 4 / 8 ) . Lula yang mengenal Ryan sejak sebelum aktif berkarier di televisi mengaku belum sempat membesuk Ryan lantaran lokasi yang jauh . Dia juga tak tahu penyakit apa yang diderita Ryan . \" Itu saya enggak tahu , belum sempat jenguk dan enggak selamanya bisa dijenguk juga . Enggak tahu berat sekali apa bagaimana , \" tutur Ryan . Walau sudah setahun menderita sakit , Lula tak mengetahui apa penyebab pasti kematian Dr Oz Indonesia itu . Meski demikian , ia mendengar beberapa kabar yang menyebut bahwa penyebab Ryan meninggal adalah karena jatuh di kamar mandi . “ Saya tidak tahu , barangkali penyakit yang dulu sama yang sekarang berbeda , atau penyebab kematiannya beda dari penyakit sebelumnya . Kita kan enggak bisa mengambil kesimpulan , \" kata Lula . Ryan Thamrin terkenal sebagai dokter yang rutin membagikan tips dan informasi kesehatan lewat tayangan Dokter Oz Indonesia . Ryan menempuh Pendidikan Dokter pada tahun 2002 di Fakultas Kedokteran Universitas Gadjah Mada . Dia kemudian melanjutkan pendidikan Klinis Kesehatan Reproduksi dan Penyakit Menular Seksual di Mahachulalongkornrajavidyalaya University , Bangkok , Thailand pada 2004 .\n",
            "contoh summary artikel : Dokter Lula Kamal yang merupakan selebriti sekaligus rekan kerja Ryan Thamrin menyebut kawannya itu sudah sakit sejak setahun yang lalu . Lula menuturkan , sakit itu membuat Ryan mesti vakum dari semua kegiatannya , termasuk menjadi pembawa acara Dokter Oz Indonesia . Kondisi itu membuat Ryan harus kembali ke kampung halamannya di Pekanbaru , Riau untuk menjalani istirahat .\n"
          ]
        }
      ],
      "source": [
        "print(f\"jumlah data : {len(train_articles)}\")\n",
        "print(f\"contoh artikel : {train_articles[0]}\")\n",
        "print(f\"contoh summary artikel : {train_summaries[0]}\")"
      ]
    },
    {
      "cell_type": "code",
      "execution_count": 6,
      "metadata": {
        "colab": {
          "base_uri": "https://localhost:8080/"
        },
        "id": "Py_lTSkkn972",
        "outputId": "2b37ef30-55ff-42bb-9239-c8e4292cf1fb"
      },
      "outputs": [
        {
          "output_type": "stream",
          "name": "stdout",
          "text": [
            "Vocabulary size: 94709\n"
          ]
        }
      ],
      "source": [
        "# Tokenize the texts\n",
        "tokenizer = Tokenizer()\n",
        "tokenizer.fit_on_texts(train_articles + train_summaries)\n",
        "\n",
        "# Correct vocabulary size calculation\n",
        "vocab_size = len(tokenizer.word_index) + 1\n",
        "print(\"Vocabulary size:\", vocab_size)\n",
        "\n",
        "# Convert texts to sequences\n",
        "def texts_to_sequences(texts, max_length=None):\n",
        "    sequences = tokenizer.texts_to_sequences(texts)\n",
        "    return pad_sequences(sequences, maxlen=max_length, padding='post')\n",
        "\n",
        "# Set max sequence lengths\n",
        "max_article_len = 500\n",
        "max_summary_len = 100\n",
        "\n",
        "# Convert articles and summaries to sequences\n",
        "X_train = texts_to_sequences(train_articles, max_length=max_article_len)\n",
        "Y_train = texts_to_sequences(train_summaries, max_length=max_summary_len)\n",
        "X_dev = texts_to_sequences(dev_articles, max_length=max_article_len)\n",
        "Y_dev = texts_to_sequences(dev_summaries, max_length=max_summary_len)"
      ]
    },
    {
      "cell_type": "code",
      "source": [
        "# Prepare decoder input/output for training\n",
        "Y_train_in = np.insert(Y_train, 0, 0, axis=1)[:, :-1]  # Shifted target sequences\n",
        "Y_train_out = np.expand_dims(Y_train, -1)"
      ],
      "metadata": {
        "id": "saPhN8ix5PAQ"
      },
      "execution_count": 7,
      "outputs": []
    },
    {
      "cell_type": "markdown",
      "metadata": {
        "id": "NzKQkyn6Hcrh"
      },
      "source": [
        "## SimpleRNN"
      ]
    },
    {
      "cell_type": "code",
      "execution_count": 8,
      "metadata": {
        "id": "FH652uruBBjg"
      },
      "outputs": [],
      "source": [
        "# Define the model\n",
        "embedding_dim = 128\n",
        "rnn_units = 256"
      ]
    },
    {
      "cell_type": "code",
      "execution_count": 9,
      "metadata": {
        "colab": {
          "base_uri": "https://localhost:8080/",
          "height": 426
        },
        "id": "Ye_UH8dzoAGU",
        "outputId": "4335d4b8-491c-45e4-e700-bb532cde2c51"
      },
      "outputs": [
        {
          "output_type": "display_data",
          "data": {
            "text/plain": [
              "\u001b[1mModel: \"functional\"\u001b[0m\n"
            ],
            "text/html": [
              "<pre style=\"white-space:pre;overflow-x:auto;line-height:normal;font-family:Menlo,'DejaVu Sans Mono',consolas,'Courier New',monospace\"><span style=\"font-weight: bold\">Model: \"functional\"</span>\n",
              "</pre>\n"
            ]
          },
          "metadata": {}
        },
        {
          "output_type": "display_data",
          "data": {
            "text/plain": [
              "┏━━━━━━━━━━━━━━━━━━━━━━━━━━━┳━━━━━━━━━━━━━━━━━━━━━━━━┳━━━━━━━━━━━━━━━━┳━━━━━━━━━━━━━━━━━━━━━━━━┓\n",
              "┃\u001b[1m \u001b[0m\u001b[1mLayer (type)             \u001b[0m\u001b[1m \u001b[0m┃\u001b[1m \u001b[0m\u001b[1mOutput Shape          \u001b[0m\u001b[1m \u001b[0m┃\u001b[1m \u001b[0m\u001b[1m       Param #\u001b[0m\u001b[1m \u001b[0m┃\u001b[1m \u001b[0m\u001b[1mConnected to          \u001b[0m\u001b[1m \u001b[0m┃\n",
              "┡━━━━━━━━━━━━━━━━━━━━━━━━━━━╇━━━━━━━━━━━━━━━━━━━━━━━━╇━━━━━━━━━━━━━━━━╇━━━━━━━━━━━━━━━━━━━━━━━━┩\n",
              "│ input_layer (\u001b[38;5;33mInputLayer\u001b[0m)  │ (\u001b[38;5;45mNone\u001b[0m, \u001b[38;5;34m500\u001b[0m)            │              \u001b[38;5;34m0\u001b[0m │ -                      │\n",
              "├───────────────────────────┼────────────────────────┼────────────────┼────────────────────────┤\n",
              "│ embedding (\u001b[38;5;33mEmbedding\u001b[0m)     │ (\u001b[38;5;45mNone\u001b[0m, \u001b[38;5;34m500\u001b[0m, \u001b[38;5;34m128\u001b[0m)       │     \u001b[38;5;34m12,122,752\u001b[0m │ input_layer[\u001b[38;5;34m0\u001b[0m][\u001b[38;5;34m0\u001b[0m]      │\n",
              "├───────────────────────────┼────────────────────────┼────────────────┼────────────────────────┤\n",
              "│ input_layer_1             │ (\u001b[38;5;45mNone\u001b[0m, \u001b[38;5;34m100\u001b[0m)            │              \u001b[38;5;34m0\u001b[0m │ -                      │\n",
              "│ (\u001b[38;5;33mInputLayer\u001b[0m)              │                        │                │                        │\n",
              "├───────────────────────────┼────────────────────────┼────────────────┼────────────────────────┤\n",
              "│ simple_rnn (\u001b[38;5;33mSimpleRNN\u001b[0m)    │ (\u001b[38;5;45mNone\u001b[0m, \u001b[38;5;34m256\u001b[0m)            │         \u001b[38;5;34m98,560\u001b[0m │ embedding[\u001b[38;5;34m0\u001b[0m][\u001b[38;5;34m0\u001b[0m]        │\n",
              "├───────────────────────────┼────────────────────────┼────────────────┼────────────────────────┤\n",
              "│ embedding_1 (\u001b[38;5;33mEmbedding\u001b[0m)   │ (\u001b[38;5;45mNone\u001b[0m, \u001b[38;5;34m100\u001b[0m, \u001b[38;5;34m128\u001b[0m)       │     \u001b[38;5;34m12,122,752\u001b[0m │ input_layer_1[\u001b[38;5;34m0\u001b[0m][\u001b[38;5;34m0\u001b[0m]    │\n",
              "├───────────────────────────┼────────────────────────┼────────────────┼────────────────────────┤\n",
              "│ dense (\u001b[38;5;33mDense\u001b[0m)             │ (\u001b[38;5;45mNone\u001b[0m, \u001b[38;5;34m256\u001b[0m)            │         \u001b[38;5;34m65,792\u001b[0m │ simple_rnn[\u001b[38;5;34m0\u001b[0m][\u001b[38;5;34m0\u001b[0m]       │\n",
              "├───────────────────────────┼────────────────────────┼────────────────┼────────────────────────┤\n",
              "│ simple_rnn_1 (\u001b[38;5;33mSimpleRNN\u001b[0m)  │ (\u001b[38;5;45mNone\u001b[0m, \u001b[38;5;34m100\u001b[0m, \u001b[38;5;34m256\u001b[0m)       │         \u001b[38;5;34m98,560\u001b[0m │ embedding_1[\u001b[38;5;34m0\u001b[0m][\u001b[38;5;34m0\u001b[0m],     │\n",
              "│                           │                        │                │ dense[\u001b[38;5;34m0\u001b[0m][\u001b[38;5;34m0\u001b[0m]            │\n",
              "├───────────────────────────┼────────────────────────┼────────────────┼────────────────────────┤\n",
              "│ dense_1 (\u001b[38;5;33mDense\u001b[0m)           │ (\u001b[38;5;45mNone\u001b[0m, \u001b[38;5;34m100\u001b[0m, \u001b[38;5;34m94709\u001b[0m)     │     \u001b[38;5;34m24,340,213\u001b[0m │ simple_rnn_1[\u001b[38;5;34m0\u001b[0m][\u001b[38;5;34m0\u001b[0m]     │\n",
              "└───────────────────────────┴────────────────────────┴────────────────┴────────────────────────┘\n"
            ],
            "text/html": [
              "<pre style=\"white-space:pre;overflow-x:auto;line-height:normal;font-family:Menlo,'DejaVu Sans Mono',consolas,'Courier New',monospace\">┏━━━━━━━━━━━━━━━━━━━━━━━━━━━┳━━━━━━━━━━━━━━━━━━━━━━━━┳━━━━━━━━━━━━━━━━┳━━━━━━━━━━━━━━━━━━━━━━━━┓\n",
              "┃<span style=\"font-weight: bold\"> Layer (type)              </span>┃<span style=\"font-weight: bold\"> Output Shape           </span>┃<span style=\"font-weight: bold\">        Param # </span>┃<span style=\"font-weight: bold\"> Connected to           </span>┃\n",
              "┡━━━━━━━━━━━━━━━━━━━━━━━━━━━╇━━━━━━━━━━━━━━━━━━━━━━━━╇━━━━━━━━━━━━━━━━╇━━━━━━━━━━━━━━━━━━━━━━━━┩\n",
              "│ input_layer (<span style=\"color: #0087ff; text-decoration-color: #0087ff\">InputLayer</span>)  │ (<span style=\"color: #00d7ff; text-decoration-color: #00d7ff\">None</span>, <span style=\"color: #00af00; text-decoration-color: #00af00\">500</span>)            │              <span style=\"color: #00af00; text-decoration-color: #00af00\">0</span> │ -                      │\n",
              "├───────────────────────────┼────────────────────────┼────────────────┼────────────────────────┤\n",
              "│ embedding (<span style=\"color: #0087ff; text-decoration-color: #0087ff\">Embedding</span>)     │ (<span style=\"color: #00d7ff; text-decoration-color: #00d7ff\">None</span>, <span style=\"color: #00af00; text-decoration-color: #00af00\">500</span>, <span style=\"color: #00af00; text-decoration-color: #00af00\">128</span>)       │     <span style=\"color: #00af00; text-decoration-color: #00af00\">12,122,752</span> │ input_layer[<span style=\"color: #00af00; text-decoration-color: #00af00\">0</span>][<span style=\"color: #00af00; text-decoration-color: #00af00\">0</span>]      │\n",
              "├───────────────────────────┼────────────────────────┼────────────────┼────────────────────────┤\n",
              "│ input_layer_1             │ (<span style=\"color: #00d7ff; text-decoration-color: #00d7ff\">None</span>, <span style=\"color: #00af00; text-decoration-color: #00af00\">100</span>)            │              <span style=\"color: #00af00; text-decoration-color: #00af00\">0</span> │ -                      │\n",
              "│ (<span style=\"color: #0087ff; text-decoration-color: #0087ff\">InputLayer</span>)              │                        │                │                        │\n",
              "├───────────────────────────┼────────────────────────┼────────────────┼────────────────────────┤\n",
              "│ simple_rnn (<span style=\"color: #0087ff; text-decoration-color: #0087ff\">SimpleRNN</span>)    │ (<span style=\"color: #00d7ff; text-decoration-color: #00d7ff\">None</span>, <span style=\"color: #00af00; text-decoration-color: #00af00\">256</span>)            │         <span style=\"color: #00af00; text-decoration-color: #00af00\">98,560</span> │ embedding[<span style=\"color: #00af00; text-decoration-color: #00af00\">0</span>][<span style=\"color: #00af00; text-decoration-color: #00af00\">0</span>]        │\n",
              "├───────────────────────────┼────────────────────────┼────────────────┼────────────────────────┤\n",
              "│ embedding_1 (<span style=\"color: #0087ff; text-decoration-color: #0087ff\">Embedding</span>)   │ (<span style=\"color: #00d7ff; text-decoration-color: #00d7ff\">None</span>, <span style=\"color: #00af00; text-decoration-color: #00af00\">100</span>, <span style=\"color: #00af00; text-decoration-color: #00af00\">128</span>)       │     <span style=\"color: #00af00; text-decoration-color: #00af00\">12,122,752</span> │ input_layer_1[<span style=\"color: #00af00; text-decoration-color: #00af00\">0</span>][<span style=\"color: #00af00; text-decoration-color: #00af00\">0</span>]    │\n",
              "├───────────────────────────┼────────────────────────┼────────────────┼────────────────────────┤\n",
              "│ dense (<span style=\"color: #0087ff; text-decoration-color: #0087ff\">Dense</span>)             │ (<span style=\"color: #00d7ff; text-decoration-color: #00d7ff\">None</span>, <span style=\"color: #00af00; text-decoration-color: #00af00\">256</span>)            │         <span style=\"color: #00af00; text-decoration-color: #00af00\">65,792</span> │ simple_rnn[<span style=\"color: #00af00; text-decoration-color: #00af00\">0</span>][<span style=\"color: #00af00; text-decoration-color: #00af00\">0</span>]       │\n",
              "├───────────────────────────┼────────────────────────┼────────────────┼────────────────────────┤\n",
              "│ simple_rnn_1 (<span style=\"color: #0087ff; text-decoration-color: #0087ff\">SimpleRNN</span>)  │ (<span style=\"color: #00d7ff; text-decoration-color: #00d7ff\">None</span>, <span style=\"color: #00af00; text-decoration-color: #00af00\">100</span>, <span style=\"color: #00af00; text-decoration-color: #00af00\">256</span>)       │         <span style=\"color: #00af00; text-decoration-color: #00af00\">98,560</span> │ embedding_1[<span style=\"color: #00af00; text-decoration-color: #00af00\">0</span>][<span style=\"color: #00af00; text-decoration-color: #00af00\">0</span>],     │\n",
              "│                           │                        │                │ dense[<span style=\"color: #00af00; text-decoration-color: #00af00\">0</span>][<span style=\"color: #00af00; text-decoration-color: #00af00\">0</span>]            │\n",
              "├───────────────────────────┼────────────────────────┼────────────────┼────────────────────────┤\n",
              "│ dense_1 (<span style=\"color: #0087ff; text-decoration-color: #0087ff\">Dense</span>)           │ (<span style=\"color: #00d7ff; text-decoration-color: #00d7ff\">None</span>, <span style=\"color: #00af00; text-decoration-color: #00af00\">100</span>, <span style=\"color: #00af00; text-decoration-color: #00af00\">94709</span>)     │     <span style=\"color: #00af00; text-decoration-color: #00af00\">24,340,213</span> │ simple_rnn_1[<span style=\"color: #00af00; text-decoration-color: #00af00\">0</span>][<span style=\"color: #00af00; text-decoration-color: #00af00\">0</span>]     │\n",
              "└───────────────────────────┴────────────────────────┴────────────────┴────────────────────────┘\n",
              "</pre>\n"
            ]
          },
          "metadata": {}
        },
        {
          "output_type": "display_data",
          "data": {
            "text/plain": [
              "\u001b[1m Total params: \u001b[0m\u001b[38;5;34m48,848,629\u001b[0m (186.34 MB)\n"
            ],
            "text/html": [
              "<pre style=\"white-space:pre;overflow-x:auto;line-height:normal;font-family:Menlo,'DejaVu Sans Mono',consolas,'Courier New',monospace\"><span style=\"font-weight: bold\"> Total params: </span><span style=\"color: #00af00; text-decoration-color: #00af00\">48,848,629</span> (186.34 MB)\n",
              "</pre>\n"
            ]
          },
          "metadata": {}
        },
        {
          "output_type": "display_data",
          "data": {
            "text/plain": [
              "\u001b[1m Trainable params: \u001b[0m\u001b[38;5;34m48,848,629\u001b[0m (186.34 MB)\n"
            ],
            "text/html": [
              "<pre style=\"white-space:pre;overflow-x:auto;line-height:normal;font-family:Menlo,'DejaVu Sans Mono',consolas,'Courier New',monospace\"><span style=\"font-weight: bold\"> Trainable params: </span><span style=\"color: #00af00; text-decoration-color: #00af00\">48,848,629</span> (186.34 MB)\n",
              "</pre>\n"
            ]
          },
          "metadata": {}
        },
        {
          "output_type": "display_data",
          "data": {
            "text/plain": [
              "\u001b[1m Non-trainable params: \u001b[0m\u001b[38;5;34m0\u001b[0m (0.00 B)\n"
            ],
            "text/html": [
              "<pre style=\"white-space:pre;overflow-x:auto;line-height:normal;font-family:Menlo,'DejaVu Sans Mono',consolas,'Courier New',monospace\"><span style=\"font-weight: bold\"> Non-trainable params: </span><span style=\"color: #00af00; text-decoration-color: #00af00\">0</span> (0.00 B)\n",
              "</pre>\n"
            ]
          },
          "metadata": {}
        }
      ],
      "source": [
        "# Encoder\n",
        "encoder_inputs = Input(shape=(max_article_len,))\n",
        "encoder_embedding = Embedding(input_dim=vocab_size, output_dim=embedding_dim)(encoder_inputs)\n",
        "encoder_rnn = SimpleRNN(rnn_units, return_sequences=False)(encoder_embedding)\n",
        "encoder_output = Dense(rnn_units)(encoder_rnn)\n",
        "\n",
        "# Decoder\n",
        "decoder_inputs = Input(shape=(max_summary_len,))\n",
        "decoder_embedding = Embedding(input_dim=vocab_size, output_dim=embedding_dim)(decoder_inputs)\n",
        "decoder_rnn = SimpleRNN(rnn_units, return_sequences=True)(decoder_embedding, initial_state=[encoder_output])\n",
        "decoder_outputs = Dense(vocab_size, activation='softmax')(decoder_rnn)\n",
        "\n",
        "# Define the model\n",
        "model = Model([encoder_inputs, decoder_inputs], decoder_outputs)\n",
        "model.compile(optimizer='adam', loss='sparse_categorical_crossentropy', metrics=['accuracy'])\n",
        "model.summary()"
      ]
    },
    {
      "cell_type": "code",
      "execution_count": 10,
      "metadata": {
        "id": "KYnqSZGofm1X"
      },
      "outputs": [],
      "source": [
        "# Training\n",
        "batch_size = 64"
      ]
    },
    {
      "cell_type": "code",
      "execution_count": 11,
      "metadata": {
        "id": "VTCKBmBwfGJt"
      },
      "outputs": [],
      "source": [
        "def create_checkpoint_callback(filename):\n",
        "    return ModelCheckpoint(\n",
        "        filepath=f\"/content/drive/MyDrive/Model/NLP/Summarization/{filename}\",\n",
        "        save_weights_only=False,  # Save the entire model, not just weights\n",
        "        save_best_only=False,     # Save at every epoch, not just the best one\n",
        "        verbose=1                 # Print a message when saving\n",
        "    )"
      ]
    },
    {
      "cell_type": "code",
      "execution_count": 12,
      "metadata": {
        "colab": {
          "base_uri": "https://localhost:8080/"
        },
        "id": "HJ0aiHy5oDsQ",
        "outputId": "e14f4746-83c0-4873-cc24-32ba2f099f43"
      },
      "outputs": [
        {
          "output_type": "stream",
          "name": "stdout",
          "text": [
            "Epoch 1/10\n",
            "\u001b[1m223/223\u001b[0m \u001b[32m━━━━━━━━━━━━━━━━━━━━\u001b[0m\u001b[37m\u001b[0m \u001b[1m0s\u001b[0m 491ms/step - accuracy: 0.3947 - loss: 6.8641\n",
            "Epoch 1: saving model to /content/drive/MyDrive/Model/NLP/Summarization/simpleRNN-last-epoch.keras\n",
            "\u001b[1m223/223\u001b[0m \u001b[32m━━━━━━━━━━━━━━━━━━━━\u001b[0m\u001b[37m\u001b[0m \u001b[1m154s\u001b[0m 603ms/step - accuracy: 0.3947 - loss: 6.8592 - val_accuracy: 0.4268 - val_loss: 4.9072\n",
            "Epoch 2/10\n",
            "\u001b[1m223/223\u001b[0m \u001b[32m━━━━━━━━━━━━━━━━━━━━\u001b[0m\u001b[37m\u001b[0m \u001b[1m0s\u001b[0m 435ms/step - accuracy: 0.4079 - loss: 4.9251\n",
            "Epoch 2: saving model to /content/drive/MyDrive/Model/NLP/Summarization/simpleRNN-last-epoch.keras\n",
            "\u001b[1m223/223\u001b[0m \u001b[32m━━━━━━━━━━━━━━━━━━━━\u001b[0m\u001b[37m\u001b[0m \u001b[1m104s\u001b[0m 468ms/step - accuracy: 0.4079 - loss: 4.9248 - val_accuracy: 0.4180 - val_loss: 4.9201\n",
            "Epoch 3/10\n",
            "\u001b[1m223/223\u001b[0m \u001b[32m━━━━━━━━━━━━━━━━━━━━\u001b[0m\u001b[37m\u001b[0m \u001b[1m0s\u001b[0m 435ms/step - accuracy: 0.4189 - loss: 4.6387\n",
            "Epoch 3: saving model to /content/drive/MyDrive/Model/NLP/Summarization/simpleRNN-last-epoch.keras\n",
            "\u001b[1m223/223\u001b[0m \u001b[32m━━━━━━━━━━━━━━━━━━━━\u001b[0m\u001b[37m\u001b[0m \u001b[1m103s\u001b[0m 460ms/step - accuracy: 0.4189 - loss: 4.6384 - val_accuracy: 0.4147 - val_loss: 4.8517\n",
            "Epoch 4/10\n",
            "\u001b[1m223/223\u001b[0m \u001b[32m━━━━━━━━━━━━━━━━━━━━\u001b[0m\u001b[37m\u001b[0m \u001b[1m0s\u001b[0m 435ms/step - accuracy: 0.4370 - loss: 4.2801\n",
            "Epoch 4: saving model to /content/drive/MyDrive/Model/NLP/Summarization/simpleRNN-last-epoch.keras\n",
            "\u001b[1m223/223\u001b[0m \u001b[32m━━━━━━━━━━━━━━━━━━━━\u001b[0m\u001b[37m\u001b[0m \u001b[1m103s\u001b[0m 463ms/step - accuracy: 0.4370 - loss: 4.2799 - val_accuracy: 0.4155 - val_loss: 4.8468\n",
            "Epoch 5/10\n",
            "\u001b[1m223/223\u001b[0m \u001b[32m━━━━━━━━━━━━━━━━━━━━\u001b[0m\u001b[37m\u001b[0m \u001b[1m0s\u001b[0m 435ms/step - accuracy: 0.4510 - loss: 3.9988\n",
            "Epoch 5: saving model to /content/drive/MyDrive/Model/NLP/Summarization/simpleRNN-last-epoch.keras\n",
            "\u001b[1m223/223\u001b[0m \u001b[32m━━━━━━━━━━━━━━━━━━━━\u001b[0m\u001b[37m\u001b[0m \u001b[1m141s\u001b[0m 461ms/step - accuracy: 0.4510 - loss: 3.9987 - val_accuracy: 0.4164 - val_loss: 4.8484\n",
            "Epoch 6/10\n",
            "\u001b[1m223/223\u001b[0m \u001b[32m━━━━━━━━━━━━━━━━━━━━\u001b[0m\u001b[37m\u001b[0m \u001b[1m0s\u001b[0m 435ms/step - accuracy: 0.4639 - loss: 3.7760\n",
            "Epoch 6: saving model to /content/drive/MyDrive/Model/NLP/Summarization/simpleRNN-last-epoch.keras\n",
            "\u001b[1m223/223\u001b[0m \u001b[32m━━━━━━━━━━━━━━━━━━━━\u001b[0m\u001b[37m\u001b[0m \u001b[1m142s\u001b[0m 460ms/step - accuracy: 0.4639 - loss: 3.7760 - val_accuracy: 0.4170 - val_loss: 4.8577\n",
            "Epoch 7/10\n",
            "\u001b[1m223/223\u001b[0m \u001b[32m━━━━━━━━━━━━━━━━━━━━\u001b[0m\u001b[37m\u001b[0m \u001b[1m0s\u001b[0m 436ms/step - accuracy: 0.4734 - loss: 3.6144\n",
            "Epoch 7: saving model to /content/drive/MyDrive/Model/NLP/Summarization/simpleRNN-last-epoch.keras\n",
            "\u001b[1m223/223\u001b[0m \u001b[32m━━━━━━━━━━━━━━━━━━━━\u001b[0m\u001b[37m\u001b[0m \u001b[1m143s\u001b[0m 465ms/step - accuracy: 0.4734 - loss: 3.6144 - val_accuracy: 0.4170 - val_loss: 4.9132\n",
            "Epoch 8/10\n",
            "\u001b[1m223/223\u001b[0m \u001b[32m━━━━━━━━━━━━━━━━━━━━\u001b[0m\u001b[37m\u001b[0m \u001b[1m0s\u001b[0m 437ms/step - accuracy: 0.4799 - loss: 3.4978\n",
            "Epoch 8: saving model to /content/drive/MyDrive/Model/NLP/Summarization/simpleRNN-last-epoch.keras\n",
            "\u001b[1m223/223\u001b[0m \u001b[32m━━━━━━━━━━━━━━━━━━━━\u001b[0m\u001b[37m\u001b[0m \u001b[1m103s\u001b[0m 462ms/step - accuracy: 0.4799 - loss: 3.4977 - val_accuracy: 0.4176 - val_loss: 4.8824\n",
            "Epoch 9/10\n",
            "\u001b[1m223/223\u001b[0m \u001b[32m━━━━━━━━━━━━━━━━━━━━\u001b[0m\u001b[37m\u001b[0m \u001b[1m0s\u001b[0m 436ms/step - accuracy: 0.4906 - loss: 3.3323\n",
            "Epoch 9: saving model to /content/drive/MyDrive/Model/NLP/Summarization/simpleRNN-last-epoch.keras\n",
            "\u001b[1m223/223\u001b[0m \u001b[32m━━━━━━━━━━━━━━━━━━━━\u001b[0m\u001b[37m\u001b[0m \u001b[1m144s\u001b[0m 473ms/step - accuracy: 0.4906 - loss: 3.3324 - val_accuracy: 0.4173 - val_loss: 4.9100\n",
            "Epoch 10/10\n",
            "\u001b[1m223/223\u001b[0m \u001b[32m━━━━━━━━━━━━━━━━━━━━\u001b[0m\u001b[37m\u001b[0m \u001b[1m0s\u001b[0m 436ms/step - accuracy: 0.4978 - loss: 3.2144\n",
            "Epoch 10: saving model to /content/drive/MyDrive/Model/NLP/Summarization/simpleRNN-last-epoch.keras\n",
            "\u001b[1m223/223\u001b[0m \u001b[32m━━━━━━━━━━━━━━━━━━━━\u001b[0m\u001b[37m\u001b[0m \u001b[1m142s\u001b[0m 471ms/step - accuracy: 0.4978 - loss: 3.2145 - val_accuracy: 0.4177 - val_loss: 4.9607\n"
          ]
        }
      ],
      "source": [
        "history = model.fit(\n",
        "    [X_train, Y_train_in],\n",
        "    Y_train_out,\n",
        "    batch_size=batch_size,\n",
        "    epochs=10,\n",
        "    validation_data=([X_dev, Y_dev], np.expand_dims(Y_dev, -1)),\n",
        "    callbacks=[create_checkpoint_callback(\"simpleRNN-last-epoch.keras\")]\n",
        "    )"
      ]
    },
    {
      "cell_type": "code",
      "execution_count": 13,
      "metadata": {
        "id": "1QDBwqMeASyG"
      },
      "outputs": [],
      "source": [
        "def compare_models_plot(histories, labels):\n",
        "    if len(histories) != len(labels):\n",
        "        raise ValueError(\"The number of histories and labels must match.\")\n",
        "\n",
        "    plt.figure(figsize=(14, 6))\n",
        "\n",
        "    # Plot accuracy\n",
        "    plt.subplot(1, 2, 1)\n",
        "    for history, label in zip(histories, labels):\n",
        "        epochs = range(1, len(history.history[\"accuracy\"]) + 1)\n",
        "        plt.plot(epochs, history.history[\"accuracy\"], label=f'Training Accuracy {label}')\n",
        "        plt.plot(epochs, history.history[\"val_accuracy\"], linestyle='--', label=f'Validation Accuracy {label}')\n",
        "    plt.title('Accuracy Over Epochs')\n",
        "    plt.xlabel('Epochs')\n",
        "    plt.ylabel('Accuracy')\n",
        "    plt.legend()\n",
        "\n",
        "    # Plot loss\n",
        "    plt.subplot(1, 2, 2)\n",
        "    for history, label in zip(histories, labels):\n",
        "        epochs = range(1, len(history.history[\"loss\"]) + 1)\n",
        "        plt.plot(epochs, history.history[\"loss\"], label=f'Training Loss {label}')\n",
        "        plt.plot(epochs, history.history[\"val_loss\"], linestyle='--', label=f'Validation Loss {label}')\n",
        "    plt.title('Loss Over Epochs')\n",
        "    plt.xlabel('Epochs')\n",
        "    plt.ylabel('Loss')\n",
        "    plt.legend()\n",
        "\n",
        "    plt.tight_layout()\n",
        "    plt.show()"
      ]
    },
    {
      "cell_type": "code",
      "execution_count": 14,
      "metadata": {
        "colab": {
          "base_uri": "https://localhost:8080/",
          "height": 459
        },
        "id": "7Eb-D2XlUIU5",
        "outputId": "b7db9ea0-0a41-4b03-c94c-008293c5ecc2"
      },
      "outputs": [
        {
          "output_type": "display_data",
          "data": {
            "text/plain": [
              "<Figure size 1400x600 with 2 Axes>"
            ],
            "image/png": "[encoded data removed]"
          },
          "metadata": {}
        }
      ],
      "source": [
        "compare_models_plot([history], [\"simpleRNN\"])"
      ]
    },
    {
      "cell_type": "code",
      "execution_count": 20,
      "metadata": {
        "id": "UBdlSwoylUwz"
      },
      "outputs": [],
      "source": [
        "# Summary generation function\n",
        "def generate_summaries(X_test, model, tokenizer, max_article_len, max_summary_len):\n",
        "    generated_summaries = []\n",
        "    for i, article_seq in enumerate(X_test):\n",
        "        article_seq = pad_sequences([article_seq], maxlen=max_article_len, padding='post')\n",
        "        summary_seq = [0]  # Start token\n",
        "\n",
        "        for _ in range(max_summary_len):\n",
        "            # Predict next token\n",
        "            output = model.predict([article_seq, pad_sequences([summary_seq], maxlen=max_summary_len, padding='post')], verbose=0)\n",
        "            next_token = np.argmax(output[0, len(summary_seq) - 1, :])\n",
        "\n",
        "            # Stop if the end-of-sequence or padding token is predicted\n",
        "            if next_token == 0:\n",
        "                break\n",
        "            summary_seq.append(next_token)\n",
        "\n",
        "        # Decode generated summary into text\n",
        "        generated_summaries.append(' '.join(tokenizer.index_word.get(i, '') for i in summary_seq[1:]))\n",
        "        print(f\"Generated summary for article {i + 1}/{len(X_test)}\")\n",
        "    return generated_summaries\n",
        "\n",
        "def decode_references(Y_test, tokenizer):\n",
        "    references = []\n",
        "    for seq in Y_test:\n",
        "        reference = ' '.join([tokenizer.index_word.get(idx, '') for idx in seq if idx != 0])\n",
        "        references.append(reference)\n",
        "    return references\n",
        "\n",
        "# Convert test articles and summaries to sequences\n",
        "X_test = texts_to_sequences(test_articles[:100], max_length=max_article_len)\n",
        "Y_test = texts_to_sequences(test_summaries[:100], max_length=max_summary_len)"
      ]
    },
    {
      "cell_type": "code",
      "execution_count": 16,
      "metadata": {
        "id": "mf703vepCTqY"
      },
      "outputs": [],
      "source": [
        "# Function to compute ROUGE scores\n",
        "def compute_rouge(references, candidates):\n",
        "    scorer = rouge_scorer.RougeScorer(['rouge1', 'rouge2', 'rougeL'], use_stemmer=True)\n",
        "    scores = {'rouge1': [], 'rouge2': [], 'rougeL': []}\n",
        "\n",
        "    for ref, cand in zip(references, candidates):\n",
        "        score = scorer.score(ref, cand)\n",
        "        scores['rouge1'].append(score['rouge1'].fmeasure)\n",
        "        scores['rouge2'].append(score['rouge2'].fmeasure)\n",
        "        scores['rougeL'].append(score['rougeL'].fmeasure)\n",
        "\n",
        "    # Average the scores\n",
        "    avg_scores = {metric: np.mean(values) for metric, values in scores.items()}\n",
        "    return avg_scores"
      ]
    },
    {
      "cell_type": "code",
      "execution_count": 21,
      "metadata": {
        "colab": {
          "base_uri": "https://localhost:8080/"
        },
        "id": "OAN1-WuTDcr1",
        "outputId": "98b60473-f917-4daf-ddbd-0b15556ac722"
      },
      "outputs": [
        {
          "output_type": "stream",
          "name": "stdout",
          "text": [
            "Generating summaries for the test set...\n",
            "Generated summary for article 1/100\n",
            "Generated summary for article 2/100\n",
            "Generated summary for article 3/100\n",
            "Generated summary for article 4/100\n",
            "Generated summary for article 5/100\n",
            "Generated summary for article 6/100\n",
            "Generated summary for article 7/100\n",
            "Generated summary for article 8/100\n",
            "Generated summary for article 9/100\n",
            "Generated summary for article 10/100\n",
            "Generated summary for article 11/100\n",
            "Generated summary for article 12/100\n",
            "Generated summary for article 13/100\n",
            "Generated summary for article 14/100\n",
            "Generated summary for article 15/100\n",
            "Generated summary for article 16/100\n",
            "Generated summary for article 17/100\n",
            "Generated summary for article 18/100\n",
            "Generated summary for article 19/100\n",
            "Generated summary for article 20/100\n",
            "Generated summary for article 21/100\n",
            "Generated summary for article 22/100\n",
            "Generated summary for article 23/100\n",
            "Generated summary for article 24/100\n",
            "Generated summary for article 25/100\n",
            "Generated summary for article 26/100\n",
            "Generated summary for article 27/100\n",
            "Generated summary for article 28/100\n",
            "Generated summary for article 29/100\n",
            "Generated summary for article 30/100\n",
            "Generated summary for article 31/100\n",
            "Generated summary for article 32/100\n",
            "Generated summary for article 33/100\n",
            "Generated summary for article 34/100\n",
            "Generated summary for article 35/100\n",
            "Generated summary for article 36/100\n",
            "Generated summary for article 37/100\n",
            "Generated summary for article 38/100\n",
            "Generated summary for article 39/100\n",
            "Generated summary for article 40/100\n",
            "Generated summary for article 41/100\n",
            "Generated summary for article 42/100\n",
            "Generated summary for article 43/100\n",
            "Generated summary for article 44/100\n",
            "Generated summary for article 45/100\n",
            "Generated summary for article 46/100\n",
            "Generated summary for article 47/100\n",
            "Generated summary for article 48/100\n",
            "Generated summary for article 49/100\n",
            "Generated summary for article 50/100\n",
            "Generated summary for article 51/100\n",
            "Generated summary for article 52/100\n",
            "Generated summary for article 53/100\n",
            "Generated summary for article 54/100\n",
            "Generated summary for article 55/100\n",
            "Generated summary for article 56/100\n",
            "Generated summary for article 57/100\n",
            "Generated summary for article 58/100\n",
            "Generated summary for article 59/100\n",
            "Generated summary for article 60/100\n",
            "Generated summary for article 61/100\n",
            "Generated summary for article 62/100\n",
            "Generated summary for article 63/100\n",
            "Generated summary for article 64/100\n",
            "Generated summary for article 65/100\n",
            "Generated summary for article 66/100\n",
            "Generated summary for article 67/100\n",
            "Generated summary for article 68/100\n",
            "Generated summary for article 69/100\n",
            "Generated summary for article 70/100\n",
            "Generated summary for article 71/100\n",
            "Generated summary for article 72/100\n",
            "Generated summary for article 73/100\n",
            "Generated summary for article 74/100\n",
            "Generated summary for article 75/100\n",
            "Generated summary for article 76/100\n",
            "Generated summary for article 77/100\n",
            "Generated summary for article 78/100\n",
            "Generated summary for article 79/100\n",
            "Generated summary for article 80/100\n",
            "Generated summary for article 81/100\n",
            "Generated summary for article 82/100\n",
            "Generated summary for article 83/100\n",
            "Generated summary for article 84/100\n",
            "Generated summary for article 85/100\n",
            "Generated summary for article 86/100\n",
            "Generated summary for article 87/100\n",
            "Generated summary for article 88/100\n",
            "Generated summary for article 89/100\n",
            "Generated summary for article 90/100\n",
            "Generated summary for article 91/100\n",
            "Generated summary for article 92/100\n",
            "Generated summary for article 93/100\n",
            "Generated summary for article 94/100\n",
            "Generated summary for article 95/100\n",
            "Generated summary for article 96/100\n",
            "Generated summary for article 97/100\n",
            "Generated summary for article 98/100\n",
            "Generated summary for article 99/100\n",
            "Generated summary for article 100/100\n"
          ]
        }
      ],
      "source": [
        "print(\"Generating summaries for the test set...\")\n",
        "generated_summaries = generate_summaries(X_test, model, tokenizer, max_article_len, max_summary_len)\n",
        "reference_summaries = decode_references(Y_test, tokenizer)"
      ]
    },
    {
      "cell_type": "code",
      "execution_count": 22,
      "metadata": {
        "colab": {
          "base_uri": "https://localhost:8080/"
        },
        "id": "ceqhZY2gIMnj",
        "outputId": "a81a0197-59fd-4f14-d509-714de0dafcde"
      },
      "outputs": [
        {
          "output_type": "stream",
          "name": "stdout",
          "text": [
            "100\n"
          ]
        }
      ],
      "source": [
        "print(len(generated_summaries))"
      ]
    },
    {
      "cell_type": "code",
      "execution_count": 23,
      "metadata": {
        "colab": {
          "base_uri": "https://localhost:8080/"
        },
        "id": "VHh4F_sSGKLK",
        "outputId": "0fe6176c-454b-4692-ef1b-0321bc2b1498"
      },
      "outputs": [
        {
          "output_type": "stream",
          "name": "stdout",
          "text": [
            "--- Example 1 ---\n",
            "Original Article: Jakarta , CNN Indonesia - - Dilansir AFP , seorang warga Mesir yang dipercaya sebagai wanita terberat di dunia masuk sebuah rumah sakit di Abu Dhabi Kamis ( 5 / 5 ) , dimana ia akan melanjutkan perawa...\n",
            "Generated Summary:   menteri keuangan sri mulyani indrawati mengatakan bahwa pihaknya akan melakukan pemeriksaan terhadap para pelaku yang diduga terlibat dalam kasus dugaan korupsi proyek e ktp di pengadilan tipikor jakarta pusat pada rabu 13 11 malam itu\n",
            "Reference Summary: eman ahmed abd el memiliki berat badan mencapai 500 kilogram sebelum menjalankan operasi di mumbai maret lalu dimana ia mengurangi seperlima dari berat badannya abd el diberi diet cairan khusus selama berada di india yang bertujuan menurunkan berat badan kini berat badannya telah turun drastis sebanyak 323 kilogram dalam tiga bulan sekarang berat badannya tinggal 176 6 kilogram\n",
            "\n",
            "--- Example 2 ---\n",
            "Original Article: Menteri Pertahanan Ryamizard Ryacudu menyambut baik usulan pembelian drone dari China untuk dikembangkan di Indonesia . Pesawat tanpa awak itu rencananya digunakan untuk misi pertahanan , yaitu mengaw...\n",
            "Generated Summary:   menteri keuangan sri mulyani indrawati mengatakan bahwa pihaknya akan melakukan pemeriksaan terhadap para pelaku yang diduga terlibat dalam kasus dugaan korupsi proyek e ktp di pengadilan tipikor jakarta pusat pada rabu 13 11 malam itu\n",
            "Reference Summary: menteri pertahanan ryamizard ryacudu menyambut baik usulan pembelian drone dari china untuk dikembangkan di indonesia pesawat tanpa awak itu rencananya digunakan untuk misi pertahanan yaitu mengawasi daerah perbatasan kita atau orang china orang manapun beli pasti dia bedah itu pelajari kita juga beli sedikit satu atau dua kemudian kita pelajari untuk menambah kecanggihan itu semuanya begitu ujar ryamizard di bogor kamis 27 7\n",
            "\n",
            "--- Example 3 ---\n",
            "Original Article: Jakarta , CNN Indonesia - - Meski sudah hampir 12 tahun berlalu , film Mean Girls merupakan salah satu film remaja sepanjang masa yang sulit untuk dilupakan . Tak heran kemudian , rumah produksi film ...\n",
            "Generated Summary:   menteri keuangan sri mulyani indrawati mengatakan bahwa pihaknya akan melakukan pemeriksaan terhadap para pelaku yang diduga terlibat dalam kasus dugaan korupsi proyek e ktp di pengadilan tipikor jakarta pusat pada rabu 13 11 malam itu\n",
            "Reference Summary: rumah produksi film yang dibintangi lindsay lohan rachel dan amanda seyfried ini kemudian memutuskan akan untuk dibuat dalam versi musikal meski sudah hampir 12 tahun berlalu film mean girls   merupakan salah satu film remaja sepanjang masa yang sulit untuk dilupakan dijadwalkan pementasan musikal dari adaptasi naskah   itu akan berlangsung september tahun depan di washington dc\n",
            "\n",
            "--- Example 4 ---\n",
            "Original Article: Usai melaksanakan ibadah haji , Eggi Sudjana akhirnya mendatangi kantor Bareskrim Polri , Jakarta , Senin ( 18 / 9 ) , untuk memberikan klarifikasi terkait pencatutan namanya di struktur organisasi Sa...\n",
            "Generated Summary:   menteri keuangan sri mulyani indrawati mengatakan bahwa pihaknya akan melakukan pemeriksaan terhadap para pelaku yang diduga terlibat dalam kasus dugaan korupsi proyek e ktp di pengadilan tipikor jakarta pusat pada rabu 13 11 malam itu\n",
            "Reference Summary: eggi sudjana akhirnya mendatangi kantor bareskrim polri jakarta senin 18 9 untuk memberikan klarifikasi terkait namanya di struktur organisasi saracen eggi juga menyebutkan ia sama sekali tidak mengenal atau terlibat dalam sindikat penyebar berita palsu tersebut eggi mengaku tidak akan datang jika kembali dipanggil menjadi saksi menurutnya ia tidak bisa memenuhi panggilan sebagai saksi karena tidak memiliki hubungan dengan saracen\n",
            "\n",
            "--- Example 5 ---\n",
            "Original Article: Banyak cara untuk memberikan pengajaran kepada anak , termasuk melalui cara yang atraktif dan kreatif . Seperti yang coba diusung dalam game permainan Kartu Muslim . Menggunakan basis teknologi Augmen...\n",
            "Generated Summary:   menteri keuangan sri mulyani indrawati mengatakan bahwa pihaknya akan melakukan pemeriksaan terhadap para pelaku yang diduga terlibat dalam kasus dugaan korupsi proyek e ktp di pengadilan tipikor jakarta pusat pada rabu 13 11 malam itu\n",
            "Reference Summary: game permainan kartu muslim menggunakan basis teknologi augmented reality ar permainan kartu tersebut memberikan pengajaran agama kepada anak anak penggunaannya cukup sederhana kartu khusus dipasarkan dalam satu set produk misalnya dalam seri belajar wudhu untuk menyajikan konten unik di dalamnya kartu tersebut dapat disorot menggunakan kamera dan aplikasi khusus di ponsel android\n",
            "\n"
          ]
        }
      ],
      "source": [
        "for i in range(0,5):\n",
        "    print(f\"--- Example {i+1} ---\")\n",
        "    print(f\"Original Article: {test_articles[i][:200]}...\")\n",
        "    print(f\"Generated Summary: {generated_summaries[i]}\")\n",
        "    print(f\"Reference Summary: {reference_summaries[i]}\")\n",
        "    print()"
      ]
    },
    {
      "cell_type": "code",
      "execution_count": 24,
      "metadata": {
        "id": "qgXdVXizJoKJ",
        "colab": {
          "base_uri": "https://localhost:8080/"
        },
        "outputId": "87453550-88e8-41bf-f3bc-fee1d774cf30"
      },
      "outputs": [
        {
          "output_type": "stream",
          "name": "stdout",
          "text": [
            "Evaluating ROUGE scores...\n",
            "ROUGE-1: 0.0834, ROUGE-2: 0.0047, ROUGE-L: 0.0608\n"
          ]
        }
      ],
      "source": [
        "print(\"Evaluating ROUGE scores...\")\n",
        "rouge_scores = compute_rouge(reference_summaries, generated_summaries)\n",
        "\n",
        "print(f\"ROUGE-1: {rouge_scores['rouge1']:.4f}, ROUGE-2: {rouge_scores['rouge2']:.4f}, ROUGE-L: {rouge_scores['rougeL']:.4f}\")"
      ]
    },
    {
      "cell_type": "code",
      "execution_count": 25,
      "metadata": {
        "id": "jj7OvCC1C6CV"
      },
      "outputs": [],
      "source": [
        "def save_model_and_history(model, history, model_name, history_name):\n",
        "  model.save(f\"/content/drive/MyDrive/Model/NLP/Summarization/{model_name}\")\n",
        "  with open(f\"/content/drive/MyDrive/Model/NLP/Summarization/{history_name}.pkl\", \"wb\") as f:\n",
        "    pickle.dump(history.history, f)"
      ]
    },
    {
      "cell_type": "code",
      "source": [
        "save_model_and_history(model, history, \"simpleRNN.keras\", \"simpleRNN_history\")"
      ],
      "metadata": {
        "id": "dZ9KjCcf1PuW"
      },
      "execution_count": 26,
      "outputs": []
    }
  ],
  "metadata": {
    "accelerator": "GPU",
    "colab": {
      "gpuType": "T4",
      "provenance": []
    },
    "kernelspec": {
      "display_name": "Python 3",
      "name": "python3"
    },
    "language_info": {
      "name": "python"
    }
  },
  "nbformat": 4,
  "nbformat_minor": 0
}